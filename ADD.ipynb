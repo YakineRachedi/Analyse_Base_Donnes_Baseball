{
 "cells": [
  {
   "cell_type": "markdown",
   "metadata": {},
   "source": [
    "### <font color = \"purple\"> Sarah Berkane, Wassim Taher, Yakine Rachedi, Jean-Louis Du</font>"
   ]
  },
  {
   "cell_type": "markdown",
   "metadata": {},
   "source": [
    "## <font color = \"green\"> Importation des packages</font>"
   ]
  },
  {
   "cell_type": "code",
   "execution_count": 5,
   "metadata": {
    "vscode": {
     "languageId": "r"
    }
   },
   "outputs": [],
   "source": [
    "library(ade4)\n",
    "library(factoextra)\n",
    "library(ggplot2)\n",
    "library(GGally)\n",
    "library(lattice)\n",
    "library(corrplot)\n",
    "library(car)"
   ]
  },
  {
   "cell_type": "markdown",
   "metadata": {},
   "source": [
    "## <font color = \"green\"> Extraction de la base de données</font>"
   ]
  },
  {
   "cell_type": "code",
   "execution_count": 108,
   "metadata": {
    "vscode": {
     "languageId": "r"
    }
   },
   "outputs": [
    {
     "data": {
      "text/html": [
       "<table class=\"dataframe\">\n",
       "<caption>A data.frame: 6 × 24</caption>\n",
       "<thead>\n",
       "\t<tr><th></th><th scope=col>Name</th><th scope=col>Bat_times_86</th><th scope=col>Hits_86</th><th scope=col>Home_runs_1986</th><th scope=col>Runs_1986</th><th scope=col>Runs_batted_1986</th><th scope=col>Walks_1986</th><th scope=col>Longevity</th><th scope=col>Bat_times_career</th><th scope=col>Hits_career</th><th scope=col>⋯</th><th scope=col>League_1986</th><th scope=col>Division_1986</th><th scope=col>Team_1986</th><th scope=col>Position_1986</th><th scope=col>Put_outs_1986</th><th scope=col>Assists_1986</th><th scope=col>Errors_1986</th><th scope=col>Salary_1987</th><th scope=col>League_1987</th><th scope=col>Team_1987</th></tr>\n",
       "\t<tr><th></th><th scope=col>&lt;chr&gt;</th><th scope=col>&lt;int&gt;</th><th scope=col>&lt;int&gt;</th><th scope=col>&lt;int&gt;</th><th scope=col>&lt;int&gt;</th><th scope=col>&lt;int&gt;</th><th scope=col>&lt;int&gt;</th><th scope=col>&lt;int&gt;</th><th scope=col>&lt;int&gt;</th><th scope=col>&lt;int&gt;</th><th scope=col>⋯</th><th scope=col>&lt;chr&gt;</th><th scope=col>&lt;chr&gt;</th><th scope=col>&lt;chr&gt;</th><th scope=col>&lt;chr&gt;</th><th scope=col>&lt;int&gt;</th><th scope=col>&lt;int&gt;</th><th scope=col>&lt;int&gt;</th><th scope=col>&lt;dbl&gt;</th><th scope=col>&lt;chr&gt;</th><th scope=col>&lt;chr&gt;</th></tr>\n",
       "</thead>\n",
       "<tbody>\n",
       "\t<tr><th scope=row>1</th><td>Andy Allanson   </td><td>293</td><td> 66</td><td> 1</td><td>30</td><td>29</td><td>14</td><td> 1</td><td> 293</td><td>  66</td><td>⋯</td><td>A</td><td>E</td><td>Cle.</td><td>C </td><td>446</td><td> 33</td><td>20</td><td>   NA</td><td>A</td><td>Cle.</td></tr>\n",
       "\t<tr><th scope=row>2</th><td>Alan Ashby      </td><td>315</td><td> 81</td><td> 7</td><td>24</td><td>38</td><td>39</td><td>14</td><td>3449</td><td> 835</td><td>⋯</td><td>N</td><td>W</td><td>Hou.</td><td>C </td><td>632</td><td> 43</td><td>10</td><td>475.0</td><td>N</td><td>Hou.</td></tr>\n",
       "\t<tr><th scope=row>3</th><td>Alvin Davis     </td><td>479</td><td>130</td><td>18</td><td>66</td><td>72</td><td>76</td><td> 3</td><td>1624</td><td> 457</td><td>⋯</td><td>A</td><td>W</td><td>Sea.</td><td>1B</td><td>880</td><td> 82</td><td>14</td><td>480.0</td><td>A</td><td>Sea.</td></tr>\n",
       "\t<tr><th scope=row>4</th><td>Andre Dawson    </td><td>496</td><td>141</td><td>20</td><td>65</td><td>78</td><td>37</td><td>11</td><td>5628</td><td>1575</td><td>⋯</td><td>N</td><td>E</td><td>Mon.</td><td>RF</td><td>200</td><td> 11</td><td> 3</td><td>500.0</td><td>N</td><td>Chi.</td></tr>\n",
       "\t<tr><th scope=row>5</th><td>Andres Galarraga</td><td>321</td><td> 87</td><td>10</td><td>39</td><td>42</td><td>30</td><td> 2</td><td> 396</td><td> 101</td><td>⋯</td><td>N</td><td>E</td><td>Mon.</td><td>1B</td><td>805</td><td> 40</td><td> 4</td><td> 91.5</td><td>N</td><td>Mon.</td></tr>\n",
       "\t<tr><th scope=row>6</th><td>Alfredo Griffin </td><td>594</td><td>169</td><td> 4</td><td>74</td><td>51</td><td>35</td><td>11</td><td>4408</td><td>1133</td><td>⋯</td><td>A</td><td>W</td><td>Oak.</td><td>SS</td><td>282</td><td>421</td><td>25</td><td>750.0</td><td>A</td><td>Oak.</td></tr>\n",
       "</tbody>\n",
       "</table>\n"
      ],
      "text/latex": [
       "A data.frame: 6 × 24\n",
       "\\begin{tabular}{r|lllllllllllllllllllll}\n",
       "  & Name & Bat\\_times\\_86 & Hits\\_86 & Home\\_runs\\_1986 & Runs\\_1986 & Runs\\_batted\\_1986 & Walks\\_1986 & Longevity & Bat\\_times\\_career & Hits\\_career & ⋯ & League\\_1986 & Division\\_1986 & Team\\_1986 & Position\\_1986 & Put\\_outs\\_1986 & Assists\\_1986 & Errors\\_1986 & Salary\\_1987 & League\\_1987 & Team\\_1987\\\\\n",
       "  & <chr> & <int> & <int> & <int> & <int> & <int> & <int> & <int> & <int> & <int> & ⋯ & <chr> & <chr> & <chr> & <chr> & <int> & <int> & <int> & <dbl> & <chr> & <chr>\\\\\n",
       "\\hline\n",
       "\t1 & Andy Allanson    & 293 &  66 &  1 & 30 & 29 & 14 &  1 &  293 &   66 & ⋯ & A & E & Cle. & C  & 446 &  33 & 20 &    NA & A & Cle.\\\\\n",
       "\t2 & Alan Ashby       & 315 &  81 &  7 & 24 & 38 & 39 & 14 & 3449 &  835 & ⋯ & N & W & Hou. & C  & 632 &  43 & 10 & 475.0 & N & Hou.\\\\\n",
       "\t3 & Alvin Davis      & 479 & 130 & 18 & 66 & 72 & 76 &  3 & 1624 &  457 & ⋯ & A & W & Sea. & 1B & 880 &  82 & 14 & 480.0 & A & Sea.\\\\\n",
       "\t4 & Andre Dawson     & 496 & 141 & 20 & 65 & 78 & 37 & 11 & 5628 & 1575 & ⋯ & N & E & Mon. & RF & 200 &  11 &  3 & 500.0 & N & Chi.\\\\\n",
       "\t5 & Andres Galarraga & 321 &  87 & 10 & 39 & 42 & 30 &  2 &  396 &  101 & ⋯ & N & E & Mon. & 1B & 805 &  40 &  4 &  91.5 & N & Mon.\\\\\n",
       "\t6 & Alfredo Griffin  & 594 & 169 &  4 & 74 & 51 & 35 & 11 & 4408 & 1133 & ⋯ & A & W & Oak. & SS & 282 & 421 & 25 & 750.0 & A & Oak.\\\\\n",
       "\\end{tabular}\n"
      ],
      "text/markdown": [
       "\n",
       "A data.frame: 6 × 24\n",
       "\n",
       "| <!--/--> | Name &lt;chr&gt; | Bat_times_86 &lt;int&gt; | Hits_86 &lt;int&gt; | Home_runs_1986 &lt;int&gt; | Runs_1986 &lt;int&gt; | Runs_batted_1986 &lt;int&gt; | Walks_1986 &lt;int&gt; | Longevity &lt;int&gt; | Bat_times_career &lt;int&gt; | Hits_career &lt;int&gt; | ⋯ ⋯ | League_1986 &lt;chr&gt; | Division_1986 &lt;chr&gt; | Team_1986 &lt;chr&gt; | Position_1986 &lt;chr&gt; | Put_outs_1986 &lt;int&gt; | Assists_1986 &lt;int&gt; | Errors_1986 &lt;int&gt; | Salary_1987 &lt;dbl&gt; | League_1987 &lt;chr&gt; | Team_1987 &lt;chr&gt; |\n",
       "|---|---|---|---|---|---|---|---|---|---|---|---|---|---|---|---|---|---|---|---|---|---|\n",
       "| 1 | Andy Allanson    | 293 |  66 |  1 | 30 | 29 | 14 |  1 |  293 |   66 | ⋯ | A | E | Cle. | C  | 446 |  33 | 20 |    NA | A | Cle. |\n",
       "| 2 | Alan Ashby       | 315 |  81 |  7 | 24 | 38 | 39 | 14 | 3449 |  835 | ⋯ | N | W | Hou. | C  | 632 |  43 | 10 | 475.0 | N | Hou. |\n",
       "| 3 | Alvin Davis      | 479 | 130 | 18 | 66 | 72 | 76 |  3 | 1624 |  457 | ⋯ | A | W | Sea. | 1B | 880 |  82 | 14 | 480.0 | A | Sea. |\n",
       "| 4 | Andre Dawson     | 496 | 141 | 20 | 65 | 78 | 37 | 11 | 5628 | 1575 | ⋯ | N | E | Mon. | RF | 200 |  11 |  3 | 500.0 | N | Chi. |\n",
       "| 5 | Andres Galarraga | 321 |  87 | 10 | 39 | 42 | 30 |  2 |  396 |  101 | ⋯ | N | E | Mon. | 1B | 805 |  40 |  4 |  91.5 | N | Mon. |\n",
       "| 6 | Alfredo Griffin  | 594 | 169 |  4 | 74 | 51 | 35 | 11 | 4408 | 1133 | ⋯ | A | W | Oak. | SS | 282 | 421 | 25 | 750.0 | A | Oak. |\n",
       "\n"
      ],
      "text/plain": [
       "  Name             Bat_times_86 Hits_86 Home_runs_1986 Runs_1986\n",
       "1 Andy Allanson    293           66      1             30       \n",
       "2 Alan Ashby       315           81      7             24       \n",
       "3 Alvin Davis      479          130     18             66       \n",
       "4 Andre Dawson     496          141     20             65       \n",
       "5 Andres Galarraga 321           87     10             39       \n",
       "6 Alfredo Griffin  594          169      4             74       \n",
       "  Runs_batted_1986 Walks_1986 Longevity Bat_times_career Hits_career ⋯\n",
       "1 29               14          1         293               66        ⋯\n",
       "2 38               39         14        3449              835        ⋯\n",
       "3 72               76          3        1624              457        ⋯\n",
       "4 78               37         11        5628             1575        ⋯\n",
       "5 42               30          2         396              101        ⋯\n",
       "6 51               35         11        4408             1133        ⋯\n",
       "  League_1986 Division_1986 Team_1986 Position_1986 Put_outs_1986 Assists_1986\n",
       "1 A           E             Cle.      C             446            33         \n",
       "2 N           W             Hou.      C             632            43         \n",
       "3 A           W             Sea.      1B            880            82         \n",
       "4 N           E             Mon.      RF            200            11         \n",
       "5 N           E             Mon.      1B            805            40         \n",
       "6 A           W             Oak.      SS            282           421         \n",
       "  Errors_1986 Salary_1987 League_1987 Team_1987\n",
       "1 20             NA       A           Cle.     \n",
       "2 10          475.0       N           Hou.     \n",
       "3 14          480.0       A           Sea.     \n",
       "4  3          500.0       N           Chi.     \n",
       "5  4           91.5       N           Mon.     \n",
       "6 25          750.0       A           Oak.     "
      ]
     },
     "metadata": {},
     "output_type": "display_data"
    },
    {
     "name": "stdout",
     "output_type": "stream",
     "text": [
      "[1] \"nombre de lignes = 322\"\n",
      "[1] \"nombre de colones = 24\"\n",
      "'data.frame':\t322 obs. of  24 variables:\n",
      " $ Name              : chr  \"Andy Allanson\" \"Alan Ashby\" \"Alvin Davis\" \"Andre Dawson\" ...\n",
      " $ Bat_times_86      : int  293 315 479 496 321 594 185 298 323 401 ...\n",
      " $ Hits_86           : int  66 81 130 141 87 169 37 73 81 92 ...\n",
      " $ Home_runs_1986    : int  1 7 18 20 10 4 1 0 6 17 ...\n",
      " $ Runs_1986         : int  30 24 66 65 39 74 23 24 26 49 ...\n",
      " $ Runs_batted_1986  : int  29 38 72 78 42 51 8 24 32 66 ...\n",
      " $ Walks_1986        : int  14 39 76 37 30 35 21 7 8 65 ...\n",
      " $ Longevity         : int  1 14 3 11 2 11 2 3 2 13 ...\n",
      " $ Bat_times_career  : int  293 3449 1624 5628 396 4408 214 509 341 5206 ...\n",
      " $ Hits_career       : int  66 835 457 1575 101 1133 42 108 86 1332 ...\n",
      " $ Home_runs_career  : int  1 69 63 225 12 19 1 0 6 253 ...\n",
      " $ Runs_career       : int  30 321 224 828 48 501 30 41 32 784 ...\n",
      " $ Runs_batted_career: int  29 414 266 838 46 336 9 37 34 890 ...\n",
      " $ Walks_career      : int  14 375 263 354 33 194 24 12 8 866 ...\n",
      " $ League_1986       : chr  \"A\" \"N\" \"A\" \"N\" ...\n",
      " $ Division_1986     : chr  \"E\" \"W\" \"W\" \"E\" ...\n",
      " $ Team_1986         : chr  \"Cle.\" \"Hou.\" \"Sea.\" \"Mon.\" ...\n",
      " $ Position_1986     : chr  \"C\" \"C\" \"1B\" \"RF\" ...\n",
      " $ Put_outs_1986     : int  446 632 880 200 805 282 76 121 143 0 ...\n",
      " $ Assists_1986      : int  33 43 82 11 40 421 127 283 290 0 ...\n",
      " $ Errors_1986       : int  20 10 14 3 4 25 7 9 19 0 ...\n",
      " $ Salary_1987       : num  NA 475 480 500 91.5 750 70 100 75 1100 ...\n",
      " $ League_1987       : chr  \"A\" \"N\" \"A\" \"N\" ...\n",
      " $ Team_1987         : chr  \"Cle.\" \"Hou.\" \"Sea.\" \"Chi.\" ...\n"
     ]
    }
   ],
   "source": [
    "data_baseball <- read.csv(\"Baseball.csv\", header = TRUE, sep=\";\")\n",
    "head(data_baseball)\n",
    "print(paste(\"nombre de lignes =\", nrow(data_baseball)))\n",
    "print(paste(\"nombre de colones =\", ncol(data_baseball)))\n",
    "str(data_baseball)"
   ]
  },
  {
   "cell_type": "code",
   "execution_count": 9,
   "metadata": {
    "vscode": {
     "languageId": "r"
    }
   },
   "outputs": [
    {
     "data": {
      "text/plain": [
       "     Name            Bat_times_86      Hits_86      Home_runs_1986  \n",
       " Length:322         Min.   :127.0   Min.   : 31.0   Min.   :  0.00  \n",
       " Class :character   1st Qu.:272.0   1st Qu.: 68.0   1st Qu.:  4.00  \n",
       " Mode  :character   Median :390.5   Median : 98.5   Median :  8.50  \n",
       "                    Mean   :390.1   Mean   :103.4   Mean   : 11.51  \n",
       "                    3rd Qu.:512.8   3rd Qu.:137.8   3rd Qu.: 16.75  \n",
       "                    Max.   :687.0   Max.   :238.0   Max.   :141.00  \n",
       "                                                                    \n",
       "   Runs_1986      Runs_batted_1986   Walks_1986       Longevity     \n",
       " Min.   : 12.00   Min.   :  8.00   Min.   :  3.00   Min.   : 1.000  \n",
       " 1st Qu.: 32.00   1st Qu.: 29.00   1st Qu.: 22.00   1st Qu.: 4.000  \n",
       " Median : 48.00   Median : 45.00   Median : 35.50   Median : 6.000  \n",
       " Mean   : 52.22   Mean   : 49.37   Mean   : 39.86   Mean   : 7.671  \n",
       " 3rd Qu.: 70.00   3rd Qu.: 65.00   3rd Qu.: 54.00   3rd Qu.:11.000  \n",
       " Max.   :130.00   Max.   :121.00   Max.   :105.00   Max.   :24.000  \n",
       "                                                                    \n",
       " Bat_times_career   Hits_career     Home_runs_career  Runs_career    \n",
       " Min.   :  166.0   Min.   :  34.0   Min.   :  0.00   Min.   :  18.0  \n",
       " 1st Qu.:  911.2   1st Qu.: 227.2   1st Qu.: 16.00   1st Qu.: 106.2  \n",
       " Median : 2065.0   Median : 552.0   Median : 40.00   Median : 266.0  \n",
       " Mean   : 2763.1   Mean   : 747.7   Mean   : 74.09   Mean   : 374.3  \n",
       " 3rd Qu.: 4068.5   3rd Qu.:1095.8   3rd Qu.: 95.50   3rd Qu.: 556.5  \n",
       " Max.   :14053.0   Max.   :4256.0   Max.   :548.00   Max.   :2165.0  \n",
       "                                                                     \n",
       " Runs_batted_career  Walks_career    League_1986        Division_1986     \n",
       " Min.   :   9.00    Min.   :   8.0   Length:322         Length:322        \n",
       " 1st Qu.:  98.25    1st Qu.:  76.0   Class :character   Class :character  \n",
       " Median : 250.00    Median : 178.5   Mode  :character   Mode  :character  \n",
       " Mean   : 347.61    Mean   : 273.4                                        \n",
       " 3rd Qu.: 461.00    3rd Qu.: 370.8                                        \n",
       " Max.   :1659.00    Max.   :1566.0                                        \n",
       "                                                                          \n",
       "  Team_1986         Position_1986      Put_outs_1986     Assists_1986  \n",
       " Length:322         Length:322         Min.   :   0.0   Min.   :  0.0  \n",
       " Class :character   Class :character   1st Qu.: 109.2   1st Qu.:  7.0  \n",
       " Mode  :character   Mode  :character   Median : 212.0   Median : 39.5  \n",
       "                                       Mean   : 288.9   Mean   :106.9  \n",
       "                                       3rd Qu.: 325.0   3rd Qu.:166.0  \n",
       "                                       Max.   :1378.0   Max.   :492.0  \n",
       "                                                                       \n",
       "  Errors_1986     Salary_1987     League_1987         Team_1987        \n",
       " Min.   : 0.00   Min.   :  67.5   Length:322         Length:322        \n",
       " 1st Qu.: 3.00   1st Qu.: 193.0   Class :character   Class :character  \n",
       " Median : 6.00   Median : 430.0   Mode  :character   Mode  :character  \n",
       " Mean   : 8.04   Mean   : 542.2                                        \n",
       " 3rd Qu.:11.00   3rd Qu.: 750.0                                        \n",
       " Max.   :32.00   Max.   :2460.0                                        \n",
       "                 NA's   :59                                            "
      ]
     },
     "metadata": {},
     "output_type": "display_data"
    }
   ],
   "source": [
    "summary(data_baseball)"
   ]
  },
  {
   "cell_type": "code",
   "execution_count": 11,
   "metadata": {
    "vscode": {
     "languageId": "r"
    }
   },
   "outputs": [
    {
     "name": "stdout",
     "output_type": "stream",
     "text": [
      "             Column Missing_Count Missing_Percentage\n",
      "               Name             0            0.00000\n",
      "       Bat_times_86             0            0.00000\n",
      "            Hits_86             0            0.00000\n",
      "     Home_runs_1986             0            0.00000\n",
      "          Runs_1986             0            0.00000\n",
      "   Runs_batted_1986             0            0.00000\n",
      "         Walks_1986             0            0.00000\n",
      "          Longevity             0            0.00000\n",
      "   Bat_times_career             0            0.00000\n",
      "        Hits_career             0            0.00000\n",
      "   Home_runs_career             0            0.00000\n",
      "        Runs_career             0            0.00000\n",
      " Runs_batted_career             0            0.00000\n",
      "       Walks_career             0            0.00000\n",
      "        League_1986             0            0.00000\n",
      "      Division_1986             0            0.00000\n",
      "          Team_1986             0            0.00000\n",
      "      Position_1986             0            0.00000\n",
      "      Put_outs_1986             0            0.00000\n",
      "       Assists_1986             0            0.00000\n",
      "        Errors_1986             0            0.00000\n",
      "        Salary_1987            59           18.32298\n",
      "        League_1987             0            0.00000\n",
      "          Team_1987             0            0.00000\n"
     ]
    },
    {
     "data": {
      "text/plain": [
       "\n",
       " 0 59 \n",
       "23  1 "
      ]
     },
     "metadata": {},
     "output_type": "display_data"
    }
   ],
   "source": [
    "# Calcul des valeurs manquantes\n",
    "missing_summary <- data.frame(\n",
    "  Column = names(data_baseball),\n",
    "  Missing_Count = colSums(is.na(data_baseball)),\n",
    "  Missing_Percentage = colMeans(is.na(data_baseball)) * 100\n",
    ")\n",
    "\n",
    "print(missing_summary, row.names = FALSE)\n",
    "# Calcul du nombre de valeurs manquantes par colonne\n",
    "table(colSums(is.na(data_baseball)))"
   ]
  },
  {
   "cell_type": "code",
   "execution_count": 17,
   "metadata": {
    "vscode": {
     "languageId": "r"
    }
   },
   "outputs": [
    {
     "data": {
      "text/html": [
       "<table class=\"dataframe\">\n",
       "<caption>A data.frame: 6 × 24</caption>\n",
       "<thead>\n",
       "\t<tr><th></th><th scope=col>Name</th><th scope=col>Bat_times_86</th><th scope=col>Hits_86</th><th scope=col>Home_runs_1986</th><th scope=col>Runs_1986</th><th scope=col>Runs_batted_1986</th><th scope=col>Walks_1986</th><th scope=col>Longevity</th><th scope=col>Bat_times_career</th><th scope=col>Hits_career</th><th scope=col>⋯</th><th scope=col>League_1986</th><th scope=col>Division_1986</th><th scope=col>Team_1986</th><th scope=col>Position_1986</th><th scope=col>Put_outs_1986</th><th scope=col>Assists_1986</th><th scope=col>Errors_1986</th><th scope=col>Salary_1987</th><th scope=col>League_1987</th><th scope=col>Team_1987</th></tr>\n",
       "\t<tr><th></th><th scope=col>&lt;chr&gt;</th><th scope=col>&lt;int&gt;</th><th scope=col>&lt;int&gt;</th><th scope=col>&lt;int&gt;</th><th scope=col>&lt;int&gt;</th><th scope=col>&lt;int&gt;</th><th scope=col>&lt;int&gt;</th><th scope=col>&lt;int&gt;</th><th scope=col>&lt;int&gt;</th><th scope=col>&lt;int&gt;</th><th scope=col>⋯</th><th scope=col>&lt;chr&gt;</th><th scope=col>&lt;chr&gt;</th><th scope=col>&lt;chr&gt;</th><th scope=col>&lt;chr&gt;</th><th scope=col>&lt;int&gt;</th><th scope=col>&lt;int&gt;</th><th scope=col>&lt;int&gt;</th><th scope=col>&lt;dbl&gt;</th><th scope=col>&lt;chr&gt;</th><th scope=col>&lt;chr&gt;</th></tr>\n",
       "</thead>\n",
       "<tbody>\n",
       "\t<tr><th scope=row>2</th><td>Alan Ashby      </td><td>315</td><td> 81</td><td> 7</td><td>24</td><td>38</td><td>39</td><td>14</td><td>3449</td><td> 835</td><td>⋯</td><td>N</td><td>W</td><td>Hou.</td><td>C </td><td>632</td><td> 43</td><td>10</td><td>475.0</td><td>N</td><td>Hou.</td></tr>\n",
       "\t<tr><th scope=row>3</th><td>Alvin Davis     </td><td>479</td><td>130</td><td>18</td><td>66</td><td>72</td><td>76</td><td> 3</td><td>1624</td><td> 457</td><td>⋯</td><td>A</td><td>W</td><td>Sea.</td><td>1B</td><td>880</td><td> 82</td><td>14</td><td>480.0</td><td>A</td><td>Sea.</td></tr>\n",
       "\t<tr><th scope=row>4</th><td>Andre Dawson    </td><td>496</td><td>141</td><td>20</td><td>65</td><td>78</td><td>37</td><td>11</td><td>5628</td><td>1575</td><td>⋯</td><td>N</td><td>E</td><td>Mon.</td><td>RF</td><td>200</td><td> 11</td><td> 3</td><td>500.0</td><td>N</td><td>Chi.</td></tr>\n",
       "\t<tr><th scope=row>5</th><td>Andres Galarraga</td><td>321</td><td> 87</td><td>10</td><td>39</td><td>42</td><td>30</td><td> 2</td><td> 396</td><td> 101</td><td>⋯</td><td>N</td><td>E</td><td>Mon.</td><td>1B</td><td>805</td><td> 40</td><td> 4</td><td> 91.5</td><td>N</td><td>Mon.</td></tr>\n",
       "\t<tr><th scope=row>6</th><td>Alfredo Griffin </td><td>594</td><td>169</td><td> 4</td><td>74</td><td>51</td><td>35</td><td>11</td><td>4408</td><td>1133</td><td>⋯</td><td>A</td><td>W</td><td>Oak.</td><td>SS</td><td>282</td><td>421</td><td>25</td><td>750.0</td><td>A</td><td>Oak.</td></tr>\n",
       "\t<tr><th scope=row>7</th><td>Al Newman       </td><td>185</td><td> 37</td><td> 1</td><td>23</td><td> 8</td><td>21</td><td> 2</td><td> 214</td><td>  42</td><td>⋯</td><td>N</td><td>E</td><td>Mon.</td><td>2B</td><td> 76</td><td>127</td><td> 7</td><td> 70.0</td><td>A</td><td>Min.</td></tr>\n",
       "</tbody>\n",
       "</table>\n"
      ],
      "text/latex": [
       "A data.frame: 6 × 24\n",
       "\\begin{tabular}{r|lllllllllllllllllllll}\n",
       "  & Name & Bat\\_times\\_86 & Hits\\_86 & Home\\_runs\\_1986 & Runs\\_1986 & Runs\\_batted\\_1986 & Walks\\_1986 & Longevity & Bat\\_times\\_career & Hits\\_career & ⋯ & League\\_1986 & Division\\_1986 & Team\\_1986 & Position\\_1986 & Put\\_outs\\_1986 & Assists\\_1986 & Errors\\_1986 & Salary\\_1987 & League\\_1987 & Team\\_1987\\\\\n",
       "  & <chr> & <int> & <int> & <int> & <int> & <int> & <int> & <int> & <int> & <int> & ⋯ & <chr> & <chr> & <chr> & <chr> & <int> & <int> & <int> & <dbl> & <chr> & <chr>\\\\\n",
       "\\hline\n",
       "\t2 & Alan Ashby       & 315 &  81 &  7 & 24 & 38 & 39 & 14 & 3449 &  835 & ⋯ & N & W & Hou. & C  & 632 &  43 & 10 & 475.0 & N & Hou.\\\\\n",
       "\t3 & Alvin Davis      & 479 & 130 & 18 & 66 & 72 & 76 &  3 & 1624 &  457 & ⋯ & A & W & Sea. & 1B & 880 &  82 & 14 & 480.0 & A & Sea.\\\\\n",
       "\t4 & Andre Dawson     & 496 & 141 & 20 & 65 & 78 & 37 & 11 & 5628 & 1575 & ⋯ & N & E & Mon. & RF & 200 &  11 &  3 & 500.0 & N & Chi.\\\\\n",
       "\t5 & Andres Galarraga & 321 &  87 & 10 & 39 & 42 & 30 &  2 &  396 &  101 & ⋯ & N & E & Mon. & 1B & 805 &  40 &  4 &  91.5 & N & Mon.\\\\\n",
       "\t6 & Alfredo Griffin  & 594 & 169 &  4 & 74 & 51 & 35 & 11 & 4408 & 1133 & ⋯ & A & W & Oak. & SS & 282 & 421 & 25 & 750.0 & A & Oak.\\\\\n",
       "\t7 & Al Newman        & 185 &  37 &  1 & 23 &  8 & 21 &  2 &  214 &   42 & ⋯ & N & E & Mon. & 2B &  76 & 127 &  7 &  70.0 & A & Min.\\\\\n",
       "\\end{tabular}\n"
      ],
      "text/markdown": [
       "\n",
       "A data.frame: 6 × 24\n",
       "\n",
       "| <!--/--> | Name &lt;chr&gt; | Bat_times_86 &lt;int&gt; | Hits_86 &lt;int&gt; | Home_runs_1986 &lt;int&gt; | Runs_1986 &lt;int&gt; | Runs_batted_1986 &lt;int&gt; | Walks_1986 &lt;int&gt; | Longevity &lt;int&gt; | Bat_times_career &lt;int&gt; | Hits_career &lt;int&gt; | ⋯ ⋯ | League_1986 &lt;chr&gt; | Division_1986 &lt;chr&gt; | Team_1986 &lt;chr&gt; | Position_1986 &lt;chr&gt; | Put_outs_1986 &lt;int&gt; | Assists_1986 &lt;int&gt; | Errors_1986 &lt;int&gt; | Salary_1987 &lt;dbl&gt; | League_1987 &lt;chr&gt; | Team_1987 &lt;chr&gt; |\n",
       "|---|---|---|---|---|---|---|---|---|---|---|---|---|---|---|---|---|---|---|---|---|---|\n",
       "| 2 | Alan Ashby       | 315 |  81 |  7 | 24 | 38 | 39 | 14 | 3449 |  835 | ⋯ | N | W | Hou. | C  | 632 |  43 | 10 | 475.0 | N | Hou. |\n",
       "| 3 | Alvin Davis      | 479 | 130 | 18 | 66 | 72 | 76 |  3 | 1624 |  457 | ⋯ | A | W | Sea. | 1B | 880 |  82 | 14 | 480.0 | A | Sea. |\n",
       "| 4 | Andre Dawson     | 496 | 141 | 20 | 65 | 78 | 37 | 11 | 5628 | 1575 | ⋯ | N | E | Mon. | RF | 200 |  11 |  3 | 500.0 | N | Chi. |\n",
       "| 5 | Andres Galarraga | 321 |  87 | 10 | 39 | 42 | 30 |  2 |  396 |  101 | ⋯ | N | E | Mon. | 1B | 805 |  40 |  4 |  91.5 | N | Mon. |\n",
       "| 6 | Alfredo Griffin  | 594 | 169 |  4 | 74 | 51 | 35 | 11 | 4408 | 1133 | ⋯ | A | W | Oak. | SS | 282 | 421 | 25 | 750.0 | A | Oak. |\n",
       "| 7 | Al Newman        | 185 |  37 |  1 | 23 |  8 | 21 |  2 |  214 |   42 | ⋯ | N | E | Mon. | 2B |  76 | 127 |  7 |  70.0 | A | Min. |\n",
       "\n"
      ],
      "text/plain": [
       "  Name             Bat_times_86 Hits_86 Home_runs_1986 Runs_1986\n",
       "2 Alan Ashby       315           81      7             24       \n",
       "3 Alvin Davis      479          130     18             66       \n",
       "4 Andre Dawson     496          141     20             65       \n",
       "5 Andres Galarraga 321           87     10             39       \n",
       "6 Alfredo Griffin  594          169      4             74       \n",
       "7 Al Newman        185           37      1             23       \n",
       "  Runs_batted_1986 Walks_1986 Longevity Bat_times_career Hits_career ⋯\n",
       "2 38               39         14        3449              835        ⋯\n",
       "3 72               76          3        1624              457        ⋯\n",
       "4 78               37         11        5628             1575        ⋯\n",
       "5 42               30          2         396              101        ⋯\n",
       "6 51               35         11        4408             1133        ⋯\n",
       "7  8               21          2         214               42        ⋯\n",
       "  League_1986 Division_1986 Team_1986 Position_1986 Put_outs_1986 Assists_1986\n",
       "2 N           W             Hou.      C             632            43         \n",
       "3 A           W             Sea.      1B            880            82         \n",
       "4 N           E             Mon.      RF            200            11         \n",
       "5 N           E             Mon.      1B            805            40         \n",
       "6 A           W             Oak.      SS            282           421         \n",
       "7 N           E             Mon.      2B             76           127         \n",
       "  Errors_1986 Salary_1987 League_1987 Team_1987\n",
       "2 10          475.0       N           Hou.     \n",
       "3 14          480.0       A           Sea.     \n",
       "4  3          500.0       N           Chi.     \n",
       "5  4           91.5       N           Mon.     \n",
       "6 25          750.0       A           Oak.     \n",
       "7  7           70.0       A           Min.     "
      ]
     },
     "metadata": {},
     "output_type": "display_data"
    },
    {
     "data": {
      "text/plain": [
       "     Name            Bat_times_86      Hits_86      Home_runs_1986 \n",
       " Length:263         Min.   :127.0   Min.   : 32.0   Min.   : 0.00  \n",
       " Class :character   1st Qu.:285.5   1st Qu.: 73.0   1st Qu.: 5.00  \n",
       " Mode  :character   Median :416.0   Median :108.0   Median : 9.00  \n",
       "                    Mean   :408.3   Mean   :109.2   Mean   :11.83  \n",
       "                    3rd Qu.:527.0   3rd Qu.:142.0   3rd Qu.:18.00  \n",
       "                    Max.   :687.0   Max.   :238.0   Max.   :40.00  \n",
       "   Runs_1986      Runs_batted_1986   Walks_1986       Longevity    \n",
       " Min.   : 13.00   Min.   :  8.00   Min.   :  3.00   Min.   : 1.00  \n",
       " 1st Qu.: 34.00   1st Qu.: 31.00   1st Qu.: 24.00   1st Qu.: 4.00  \n",
       " Median : 53.00   Median : 47.00   Median : 37.00   Median : 6.00  \n",
       " Mean   : 55.49   Mean   : 52.29   Mean   : 41.72   Mean   : 7.38  \n",
       " 3rd Qu.: 73.00   3rd Qu.: 71.50   3rd Qu.: 57.50   3rd Qu.:10.50  \n",
       " Max.   :130.00   Max.   :121.00   Max.   :105.00   Max.   :24.00  \n",
       " Bat_times_career   Hits_career     Home_runs_career  Runs_career    \n",
       " Min.   :  181.0   Min.   :  42.0   Min.   :  0.00   Min.   :  18.0  \n",
       " 1st Qu.:  911.5   1st Qu.: 219.5   1st Qu.: 16.00   1st Qu.: 110.5  \n",
       " Median : 1966.0   Median : 541.0   Median : 40.00   Median : 265.0  \n",
       " Mean   : 2700.9   Mean   : 733.9   Mean   : 71.48   Mean   : 368.1  \n",
       " 3rd Qu.: 3914.5   3rd Qu.:1064.0   3rd Qu.: 93.00   3rd Qu.: 503.0  \n",
       " Max.   :14053.0   Max.   :4256.0   Max.   :548.00   Max.   :2165.0  \n",
       " Runs_batted_career  Walks_career    League_1986        Division_1986     \n",
       " Min.   :   9.0     Min.   :   8.0   Length:263         Length:263        \n",
       " 1st Qu.:  99.5     1st Qu.:  77.0   Class :character   Class :character  \n",
       " Median : 249.0     Median : 175.0   Mode  :character   Mode  :character  \n",
       " Mean   : 337.9     Mean   : 266.5                                        \n",
       " 3rd Qu.: 432.5     3rd Qu.: 333.0                                        \n",
       " Max.   :1659.0     Max.   :1566.0                                        \n",
       "  Team_1986         Position_1986      Put_outs_1986     Assists_1986  \n",
       " Length:263         Length:263         Min.   :   0.0   Min.   :  0.0  \n",
       " Class :character   Class :character   1st Qu.: 113.5   1st Qu.:  8.0  \n",
       " Mode  :character   Mode  :character   Median : 224.0   Median : 45.0  \n",
       "                                       Mean   : 290.7   Mean   :118.8  \n",
       "                                       3rd Qu.: 322.5   3rd Qu.:192.0  \n",
       "                                       Max.   :1377.0   Max.   :492.0  \n",
       "  Errors_1986      Salary_1987     League_1987         Team_1987        \n",
       " Min.   : 0.000   Min.   :  67.5   Length:263         Length:263        \n",
       " 1st Qu.: 3.000   1st Qu.: 193.0   Class :character   Class :character  \n",
       " Median : 7.000   Median : 430.0   Mode  :character   Mode  :character  \n",
       " Mean   : 8.593   Mean   : 542.2                                        \n",
       " 3rd Qu.:13.000   3rd Qu.: 750.0                                        \n",
       " Max.   :32.000   Max.   :2460.0                                        "
      ]
     },
     "metadata": {},
     "output_type": "display_data"
    },
    {
     "name": "stdout",
     "output_type": "stream",
     "text": [
      "             Column Missing_Count Missing_Percentage\n",
      "               Name             0                  0\n",
      "       Bat_times_86             0                  0\n",
      "            Hits_86             0                  0\n",
      "     Home_runs_1986             0                  0\n",
      "          Runs_1986             0                  0\n",
      "   Runs_batted_1986             0                  0\n",
      "         Walks_1986             0                  0\n",
      "          Longevity             0                  0\n",
      "   Bat_times_career             0                  0\n",
      "        Hits_career             0                  0\n",
      "   Home_runs_career             0                  0\n",
      "        Runs_career             0                  0\n",
      " Runs_batted_career             0                  0\n",
      "       Walks_career             0                  0\n",
      "        League_1986             0                  0\n",
      "      Division_1986             0                  0\n",
      "          Team_1986             0                  0\n",
      "      Position_1986             0                  0\n",
      "      Put_outs_1986             0                  0\n",
      "       Assists_1986             0                  0\n",
      "        Errors_1986             0                  0\n",
      "        Salary_1987             0                  0\n",
      "        League_1987             0                  0\n",
      "          Team_1987             0                  0\n"
     ]
    }
   ],
   "source": [
    "# Base de données sans les valeurs manquantes\n",
    "Baseball <- na.omit(data_baseball)\n",
    "\n",
    "head(Baseball)\n",
    "summary(Baseball)\n",
    "missing_summary <- data.frame(\n",
    "  Column = names(Baseball),\n",
    "  Missing_Count = colSums(is.na(Baseball)),\n",
    "  Missing_Percentage = colMeans(is.na(Baseball)) * 100\n",
    ")\n",
    "print(missing_summary, row.names = FALSE)"
   ]
  },
  {
   "cell_type": "markdown",
   "metadata": {},
   "source": [
    "# <font color = \"blue\"> 1. Analyse descriptive des données</font>"
   ]
  },
  {
   "cell_type": "markdown",
   "metadata": {},
   "source": [
    "## <font color = \"green\"> 1.1. Présentation générale de la base de donnée</font>"
   ]
  },
  {
   "cell_type": "markdown",
   "metadata": {},
   "source": [
    "# Explication des variables\n",
    "\n",
    "1. **Name** : Le nom du joueur.\n",
    "   \n",
    "2. **Bat_times_86** : Le nombre de fois où le joueur est allé au bâton (battre) en 1986. Cela indique combien de fois un joueur a eu une chance de frapper la balle pendant la saison.\n",
    "\n",
    "3. **Hits_86** : Le nombre de coups sûrs réalisés par le joueur en 1986. Un \"hit\" est un coup où le joueur atteint la base avec succès.\n",
    "\n",
    "4. **Home_runs_1986** : Le nombre de **home runs** (coups de circuit) réalisés par le joueur en 1986. Un home run se produit lorsque le joueur frappe la balle et la fait sortir du terrain sans qu'elle soit attrapée, lui permettant ainsi de faire un tour complet des bases.\n",
    "\n",
    "5. **Runs_1986** : Le nombre de points (runs) marqués par le joueur en 1986. Un \"run\" est marqué lorsqu'un joueur réussit à faire le tour complet des bases et revient au marbre.\n",
    "\n",
    "6. **Runs_batted_1986** : Le nombre de **runs batted in** (RBI) réalisés par le joueur en 1986. Cela représente le nombre de points marqués par des coéquipiers grâce à des actions du joueur (comme des coups sûrs ou des coups de circuit).\n",
    "\n",
    "7. **Walks_1986** : Le nombre de fois où le joueur a obtenu un **walk** en 1986. Un \"walk\" (ou base sur balles) se produit lorsqu'un lanceur lance quatre balles non frappées, ce qui permet au joueur de se rendre automatiquement à la première base.\n",
    "\n",
    "8. **Longevity** : Le nombre d'années que le joueur a passées dans le **major league** (grandes ligues). Cela montre la durée de sa carrière professionnelle en baseball.\n",
    "\n",
    "9. **Bat_times_career** : Le nombre total de fois où le joueur est allé au bâton tout au long de sa carrière.\n",
    "\n",
    "10. **Hits_career** : Le nombre total de coups sûrs réalisés par le joueur tout au long de sa carrière.\n",
    "\n",
    "11. **Home_runs_career** : Le nombre total de **home runs** (coups de circuit) réalisés par le joueur durant sa carrière.\n",
    "\n",
    "12. **Runs_career** : Le nombre total de **runs** (points) marqués par le joueur pendant sa carrière.\n",
    "\n",
    "13. **Runs_batted_career** : Le nombre total de **runs batted in** (RBI) réalisés par le joueur au cours de sa carrière.\n",
    "\n",
    "14. **Walks_career** : Le nombre total de **walks** obtenus par le joueur pendant sa carrière.\n",
    "\n",
    "15. **League_1986** : La ligue dans laquelle le joueur a joué en 1986. Par exemple, \"A\" pour American League et \"N\" pour National League.\n",
    "\n",
    "16. **Division_1986** : La division de la ligue où le joueur a joué en 1986. Par exemple, \"E\" pour la division Est.\n",
    "\n",
    "17. **Team_1986** : L'équipe dans laquelle le joueur a joué en 1986. Cela pourrait être un abréviation de l'équipe, comme \"Hou.\" pour Houston Astros, \"Cle.\" pour Cleveland Indians, etc.\n",
    "\n",
    "18. **Position_1986** : La position occupée par le joueur en 1986. Par exemple, \"C\" pour un **catcher**, \"1B\" pour un **premier base**, \"2B\" pour un **deuxième base**, etc.\n",
    "\n",
    "19. **Put_outs_1986** : Le nombre de **put outs** réalisés par le joueur en 1986. Un \"put out\" se produit lorsqu'un joueur est responsable de la mise hors de course d'un autre joueur (par exemple, en attrapant une balle ou en lançant la balle à la base).\n",
    "\n",
    "20. **Assists_1986** : Le nombre d'**assists** réalisés par le joueur en 1986. Une \"assist\" est créditée lorsqu'un joueur aide à éliminer un autre joueur, généralement en lançant la balle à un coéquipier pour un put out.\n",
    "\n",
    "21. **Errors_1986** : Le nombre d'**erreurs** commises par le joueur en 1986. Une erreur se produit lorsqu'un joueur fait une erreur qui permet à un adversaire de se rendre en base ou de marquer un point.\n",
    "\n",
    "22. **Salary_1987** : Le salaire du joueur pour l'année 1987. C'est le montant qu'un joueur a gagné pour la saison.\n",
    "\n",
    "23. **League_1987** : La ligue dans laquelle le joueur a joué en 1987, similaire à la variable pour 1986.\n",
    "\n",
    "24. **Team_1987** : L'équipe pour laquelle le joueur a joué en 1987."
   ]
  },
  {
   "cell_type": "markdown",
   "metadata": {},
   "source": [
    "## <font color = \"green\"> 1.2. Statistique générale de la base de donnée</font>"
   ]
  },
  {
   "cell_type": "code",
   "execution_count": 30,
   "metadata": {
    "vscode": {
     "languageId": "r"
    }
   },
   "outputs": [
    {
     "name": "stdout",
     "output_type": "stream",
     "text": [
      "           Variable        Mean Median          SD   Min   Max\n",
      "       Bat_times_86  408.285171    416  142.633058 127.0   687\n",
      "            Hits_86  109.159696    108   43.993289  32.0   238\n",
      "     Home_runs_1986   11.825095      9    8.826131   0.0    40\n",
      "          Runs_1986   55.490494     53   25.073763  13.0   130\n",
      "   Runs_batted_1986   52.288973     47   25.713189   8.0   121\n",
      "         Walks_1986   41.722433     37   21.507032   3.0   105\n",
      "          Longevity    7.380228      6    4.790248   1.0    24\n",
      "   Bat_times_career 2700.893536   1966 2290.315240 181.0 14053\n",
      "        Hits_career  733.916350    541  648.900121  42.0  4256\n",
      "   Home_runs_career   71.475285     40   86.041078   0.0   548\n",
      "        Runs_career  368.076046    265  334.845723  18.0  2165\n",
      " Runs_batted_career  337.904943    249  328.419885   9.0  1659\n",
      "       Walks_career  266.547529    175  271.367565   8.0  1566\n",
      "      Put_outs_1986  290.711027    224  279.934575   0.0  1377\n",
      "       Assists_1986  118.760456     45  145.080577   0.0   492\n",
      "        Errors_1986    8.593156      7    6.606574   0.0    32\n",
      "        Salary_1987  542.199646    430  449.977547  67.5  2460\n"
     ]
    }
   ],
   "source": [
    "numeric_vars <- sapply(Baseball, is.numeric) # variables numériques\n",
    "\n",
    "# Calculer les statistiques descriptives\n",
    "descriptive_stats <- data.frame(\n",
    "  Variable = names(Baseball)[numeric_vars],\n",
    "  Mean = sapply(Baseball[, numeric_vars], mean, na.rm = TRUE),\n",
    "  Median = sapply(Baseball[, numeric_vars], median, na.rm = TRUE),\n",
    "  SD = sapply(Baseball[, numeric_vars], sd, na.rm = TRUE),\n",
    "  Min = sapply(Baseball[, numeric_vars], min, na.rm = TRUE),\n",
    "  Max = sapply(Baseball[, numeric_vars], max, na.rm = TRUE)\n",
    ")\n",
    "\n",
    "print(descriptive_stats, row.names = FALSE)"
   ]
  },
  {
   "cell_type": "markdown",
   "metadata": {},
   "source": [
    "### <font color = \"orange\"> 1.3.1. Variable Salary</font>"
   ]
  },
  {
   "cell_type": "code",
   "execution_count": 33,
   "metadata": {
    "vscode": {
     "languageId": "r"
    }
   },
   "outputs": [
    {
     "data": {
      "image/png": "[encoded data removed]",
      "text/plain": [
       "Plot with title \"Distribution des salaires\""
      ]
     },
     "metadata": {
      "image/png": {
       "height": 420,
       "width": 420
      }
     },
     "output_type": "display_data"
    }
   ],
   "source": [
    "hist(Baseball$Salary_1987, main = \"Distribution des salaires\", xlab = \"Salaire\", col = \"blue\")\n"
   ]
  },
  {
   "cell_type": "code",
   "execution_count": 35,
   "metadata": {
    "vscode": {
     "languageId": "r"
    }
   },
   "outputs": [
    {
     "data": {
      "text/plain": [
       "   Min. 1st Qu.  Median    Mean 3rd Qu.    Max. \n",
       "   67.5   193.0   430.0   542.2   750.0  2460.0 "
      ]
     },
     "metadata": {},
     "output_type": "display_data"
    },
    {
     "name": "stdout",
     "output_type": "stream",
     "text": [
      "[1] \"Intervalle interquartile :  557\"\n"
     ]
    },
    {
     "data": {
      "text/html": [
       "<table class=\"dataframe\">\n",
       "<caption>A data.frame: 11 × 24</caption>\n",
       "<thead>\n",
       "\t<tr><th></th><th scope=col>Name</th><th scope=col>Bat_times_86</th><th scope=col>Hits_86</th><th scope=col>Home_runs_1986</th><th scope=col>Runs_1986</th><th scope=col>Runs_batted_1986</th><th scope=col>Walks_1986</th><th scope=col>Longevity</th><th scope=col>Bat_times_career</th><th scope=col>Hits_career</th><th scope=col>⋯</th><th scope=col>League_1986</th><th scope=col>Division_1986</th><th scope=col>Team_1986</th><th scope=col>Position_1986</th><th scope=col>Put_outs_1986</th><th scope=col>Assists_1986</th><th scope=col>Errors_1986</th><th scope=col>Salary_1987</th><th scope=col>League_1987</th><th scope=col>Team_1987</th></tr>\n",
       "\t<tr><th></th><th scope=col>&lt;chr&gt;</th><th scope=col>&lt;int&gt;</th><th scope=col>&lt;int&gt;</th><th scope=col>&lt;int&gt;</th><th scope=col>&lt;int&gt;</th><th scope=col>&lt;int&gt;</th><th scope=col>&lt;int&gt;</th><th scope=col>&lt;int&gt;</th><th scope=col>&lt;int&gt;</th><th scope=col>&lt;int&gt;</th><th scope=col>⋯</th><th scope=col>&lt;chr&gt;</th><th scope=col>&lt;chr&gt;</th><th scope=col>&lt;chr&gt;</th><th scope=col>&lt;chr&gt;</th><th scope=col>&lt;int&gt;</th><th scope=col>&lt;int&gt;</th><th scope=col>&lt;int&gt;</th><th scope=col>&lt;dbl&gt;</th><th scope=col>&lt;chr&gt;</th><th scope=col>&lt;chr&gt;</th></tr>\n",
       "</thead>\n",
       "<tbody>\n",
       "\t<tr><th scope=row>83</th><td>Don Mattingly   </td><td>677</td><td>238</td><td>31</td><td>117</td><td>113</td><td> 53</td><td> 5</td><td>2223</td><td> 737</td><td>⋯</td><td>A</td><td>E</td><td>N.Y. </td><td>1B</td><td>1377</td><td>100</td><td> 6</td><td>1975.000</td><td>A</td><td>N.Y. </td></tr>\n",
       "\t<tr><th scope=row>85</th><td>Dale Murphy     </td><td>614</td><td>163</td><td>29</td><td> 89</td><td> 83</td><td> 75</td><td>11</td><td>5017</td><td>1388</td><td>⋯</td><td>N</td><td>W</td><td>Atl. </td><td>CF</td><td> 303</td><td>  6</td><td> 6</td><td>1900.000</td><td>N</td><td>Atl. </td></tr>\n",
       "\t<tr><th scope=row>97</th><td>Dave Winfield   </td><td>565</td><td>148</td><td>24</td><td> 90</td><td>104</td><td> 77</td><td>14</td><td>7287</td><td>2083</td><td>⋯</td><td>A</td><td>E</td><td>N.Y. </td><td>RF</td><td> 292</td><td>  9</td><td> 5</td><td>1861.460</td><td>A</td><td>N.Y. </td></tr>\n",
       "\t<tr><th scope=row>101</th><td>Eddie Murray    </td><td>495</td><td>151</td><td>17</td><td> 61</td><td> 84</td><td> 78</td><td>10</td><td>5624</td><td>1679</td><td>⋯</td><td>A</td><td>E</td><td>Bal. </td><td>1B</td><td>1045</td><td> 88</td><td>13</td><td>2460.000</td><td>A</td><td>Bal. </td></tr>\n",
       "\t<tr><th scope=row>113</th><td>Gary Carter     </td><td>490</td><td>125</td><td>24</td><td> 81</td><td>105</td><td> 62</td><td>13</td><td>6063</td><td>1646</td><td>⋯</td><td>N</td><td>E</td><td>N.Y. </td><td>C </td><td> 869</td><td> 62</td><td> 8</td><td>1925.571</td><td>N</td><td>N.Y. </td></tr>\n",
       "\t<tr><th scope=row>164</th><td>Jim Rice        </td><td>618</td><td>200</td><td>20</td><td> 98</td><td>110</td><td> 62</td><td>13</td><td>7127</td><td>2163</td><td>⋯</td><td>A</td><td>E</td><td>Bos. </td><td>LF</td><td> 330</td><td> 16</td><td> 8</td><td>2412.500</td><td>A</td><td>Bos. </td></tr>\n",
       "\t<tr><th scope=row>180</th><td>Keith Hernandez </td><td>551</td><td>171</td><td>13</td><td> 94</td><td> 83</td><td> 94</td><td>13</td><td>6090</td><td>1840</td><td>⋯</td><td>N</td><td>E</td><td>N.Y. </td><td>1B</td><td>1199</td><td>149</td><td> 5</td><td>1800.000</td><td>N</td><td>N.Y. </td></tr>\n",
       "\t<tr><th scope=row>218</th><td>Mike Schmidt    </td><td>552</td><td>160</td><td>37</td><td> 97</td><td>119</td><td> 89</td><td>15</td><td>7292</td><td>1954</td><td>⋯</td><td>N</td><td>E</td><td>Phi. </td><td>3B</td><td>  78</td><td>220</td><td> 6</td><td>2127.333</td><td>N</td><td>Phi. </td></tr>\n",
       "\t<tr><th scope=row>230</th><td>Ozzie Smith     </td><td>514</td><td>144</td><td> 0</td><td> 67</td><td> 54</td><td> 79</td><td> 9</td><td>4739</td><td>1169</td><td>⋯</td><td>N</td><td>E</td><td>St.L.</td><td>SS</td><td> 229</td><td>453</td><td>15</td><td>1940.000</td><td>N</td><td>St.L.</td></tr>\n",
       "\t<tr><th scope=row>249</th><td>Rickey Henderson</td><td>608</td><td>160</td><td>28</td><td>130</td><td> 74</td><td> 89</td><td> 8</td><td>4071</td><td>1182</td><td>⋯</td><td>A</td><td>E</td><td>N.Y. </td><td>CF</td><td> 426</td><td>  4</td><td> 6</td><td>1670.000</td><td>A</td><td>N.Y. </td></tr>\n",
       "\t<tr><th scope=row>314</th><td>Wade Boggs      </td><td>580</td><td>207</td><td> 8</td><td>107</td><td> 71</td><td>105</td><td> 5</td><td>2778</td><td> 978</td><td>⋯</td><td>A</td><td>E</td><td>Bos. </td><td>3B</td><td> 121</td><td>267</td><td>19</td><td>1600.000</td><td>A</td><td>Bos. </td></tr>\n",
       "</tbody>\n",
       "</table>\n"
      ],
      "text/latex": [
       "A data.frame: 11 × 24\n",
       "\\begin{tabular}{r|lllllllllllllllllllll}\n",
       "  & Name & Bat\\_times\\_86 & Hits\\_86 & Home\\_runs\\_1986 & Runs\\_1986 & Runs\\_batted\\_1986 & Walks\\_1986 & Longevity & Bat\\_times\\_career & Hits\\_career & ⋯ & League\\_1986 & Division\\_1986 & Team\\_1986 & Position\\_1986 & Put\\_outs\\_1986 & Assists\\_1986 & Errors\\_1986 & Salary\\_1987 & League\\_1987 & Team\\_1987\\\\\n",
       "  & <chr> & <int> & <int> & <int> & <int> & <int> & <int> & <int> & <int> & <int> & ⋯ & <chr> & <chr> & <chr> & <chr> & <int> & <int> & <int> & <dbl> & <chr> & <chr>\\\\\n",
       "\\hline\n",
       "\t83 & Don Mattingly    & 677 & 238 & 31 & 117 & 113 &  53 &  5 & 2223 &  737 & ⋯ & A & E & N.Y.  & 1B & 1377 & 100 &  6 & 1975.000 & A & N.Y. \\\\\n",
       "\t85 & Dale Murphy      & 614 & 163 & 29 &  89 &  83 &  75 & 11 & 5017 & 1388 & ⋯ & N & W & Atl.  & CF &  303 &   6 &  6 & 1900.000 & N & Atl. \\\\\n",
       "\t97 & Dave Winfield    & 565 & 148 & 24 &  90 & 104 &  77 & 14 & 7287 & 2083 & ⋯ & A & E & N.Y.  & RF &  292 &   9 &  5 & 1861.460 & A & N.Y. \\\\\n",
       "\t101 & Eddie Murray     & 495 & 151 & 17 &  61 &  84 &  78 & 10 & 5624 & 1679 & ⋯ & A & E & Bal.  & 1B & 1045 &  88 & 13 & 2460.000 & A & Bal. \\\\\n",
       "\t113 & Gary Carter      & 490 & 125 & 24 &  81 & 105 &  62 & 13 & 6063 & 1646 & ⋯ & N & E & N.Y.  & C  &  869 &  62 &  8 & 1925.571 & N & N.Y. \\\\\n",
       "\t164 & Jim Rice         & 618 & 200 & 20 &  98 & 110 &  62 & 13 & 7127 & 2163 & ⋯ & A & E & Bos.  & LF &  330 &  16 &  8 & 2412.500 & A & Bos. \\\\\n",
       "\t180 & Keith Hernandez  & 551 & 171 & 13 &  94 &  83 &  94 & 13 & 6090 & 1840 & ⋯ & N & E & N.Y.  & 1B & 1199 & 149 &  5 & 1800.000 & N & N.Y. \\\\\n",
       "\t218 & Mike Schmidt     & 552 & 160 & 37 &  97 & 119 &  89 & 15 & 7292 & 1954 & ⋯ & N & E & Phi.  & 3B &   78 & 220 &  6 & 2127.333 & N & Phi. \\\\\n",
       "\t230 & Ozzie Smith      & 514 & 144 &  0 &  67 &  54 &  79 &  9 & 4739 & 1169 & ⋯ & N & E & St.L. & SS &  229 & 453 & 15 & 1940.000 & N & St.L.\\\\\n",
       "\t249 & Rickey Henderson & 608 & 160 & 28 & 130 &  74 &  89 &  8 & 4071 & 1182 & ⋯ & A & E & N.Y.  & CF &  426 &   4 &  6 & 1670.000 & A & N.Y. \\\\\n",
       "\t314 & Wade Boggs       & 580 & 207 &  8 & 107 &  71 & 105 &  5 & 2778 &  978 & ⋯ & A & E & Bos.  & 3B &  121 & 267 & 19 & 1600.000 & A & Bos. \\\\\n",
       "\\end{tabular}\n"
      ],
      "text/markdown": [
       "\n",
       "A data.frame: 11 × 24\n",
       "\n",
       "| <!--/--> | Name &lt;chr&gt; | Bat_times_86 &lt;int&gt; | Hits_86 &lt;int&gt; | Home_runs_1986 &lt;int&gt; | Runs_1986 &lt;int&gt; | Runs_batted_1986 &lt;int&gt; | Walks_1986 &lt;int&gt; | Longevity &lt;int&gt; | Bat_times_career &lt;int&gt; | Hits_career &lt;int&gt; | ⋯ ⋯ | League_1986 &lt;chr&gt; | Division_1986 &lt;chr&gt; | Team_1986 &lt;chr&gt; | Position_1986 &lt;chr&gt; | Put_outs_1986 &lt;int&gt; | Assists_1986 &lt;int&gt; | Errors_1986 &lt;int&gt; | Salary_1987 &lt;dbl&gt; | League_1987 &lt;chr&gt; | Team_1987 &lt;chr&gt; |\n",
       "|---|---|---|---|---|---|---|---|---|---|---|---|---|---|---|---|---|---|---|---|---|---|\n",
       "| 83 | Don Mattingly    | 677 | 238 | 31 | 117 | 113 |  53 |  5 | 2223 |  737 | ⋯ | A | E | N.Y.  | 1B | 1377 | 100 |  6 | 1975.000 | A | N.Y.  |\n",
       "| 85 | Dale Murphy      | 614 | 163 | 29 |  89 |  83 |  75 | 11 | 5017 | 1388 | ⋯ | N | W | Atl.  | CF |  303 |   6 |  6 | 1900.000 | N | Atl.  |\n",
       "| 97 | Dave Winfield    | 565 | 148 | 24 |  90 | 104 |  77 | 14 | 7287 | 2083 | ⋯ | A | E | N.Y.  | RF |  292 |   9 |  5 | 1861.460 | A | N.Y.  |\n",
       "| 101 | Eddie Murray     | 495 | 151 | 17 |  61 |  84 |  78 | 10 | 5624 | 1679 | ⋯ | A | E | Bal.  | 1B | 1045 |  88 | 13 | 2460.000 | A | Bal.  |\n",
       "| 113 | Gary Carter      | 490 | 125 | 24 |  81 | 105 |  62 | 13 | 6063 | 1646 | ⋯ | N | E | N.Y.  | C  |  869 |  62 |  8 | 1925.571 | N | N.Y.  |\n",
       "| 164 | Jim Rice         | 618 | 200 | 20 |  98 | 110 |  62 | 13 | 7127 | 2163 | ⋯ | A | E | Bos.  | LF |  330 |  16 |  8 | 2412.500 | A | Bos.  |\n",
       "| 180 | Keith Hernandez  | 551 | 171 | 13 |  94 |  83 |  94 | 13 | 6090 | 1840 | ⋯ | N | E | N.Y.  | 1B | 1199 | 149 |  5 | 1800.000 | N | N.Y.  |\n",
       "| 218 | Mike Schmidt     | 552 | 160 | 37 |  97 | 119 |  89 | 15 | 7292 | 1954 | ⋯ | N | E | Phi.  | 3B |   78 | 220 |  6 | 2127.333 | N | Phi.  |\n",
       "| 230 | Ozzie Smith      | 514 | 144 |  0 |  67 |  54 |  79 |  9 | 4739 | 1169 | ⋯ | N | E | St.L. | SS |  229 | 453 | 15 | 1940.000 | N | St.L. |\n",
       "| 249 | Rickey Henderson | 608 | 160 | 28 | 130 |  74 |  89 |  8 | 4071 | 1182 | ⋯ | A | E | N.Y.  | CF |  426 |   4 |  6 | 1670.000 | A | N.Y.  |\n",
       "| 314 | Wade Boggs       | 580 | 207 |  8 | 107 |  71 | 105 |  5 | 2778 |  978 | ⋯ | A | E | Bos.  | 3B |  121 | 267 | 19 | 1600.000 | A | Bos.  |\n",
       "\n"
      ],
      "text/plain": [
       "    Name             Bat_times_86 Hits_86 Home_runs_1986 Runs_1986\n",
       "83  Don Mattingly    677          238     31             117      \n",
       "85  Dale Murphy      614          163     29              89      \n",
       "97  Dave Winfield    565          148     24              90      \n",
       "101 Eddie Murray     495          151     17              61      \n",
       "113 Gary Carter      490          125     24              81      \n",
       "164 Jim Rice         618          200     20              98      \n",
       "180 Keith Hernandez  551          171     13              94      \n",
       "218 Mike Schmidt     552          160     37              97      \n",
       "230 Ozzie Smith      514          144      0              67      \n",
       "249 Rickey Henderson 608          160     28             130      \n",
       "314 Wade Boggs       580          207      8             107      \n",
       "    Runs_batted_1986 Walks_1986 Longevity Bat_times_career Hits_career ⋯\n",
       "83  113               53         5        2223              737        ⋯\n",
       "85   83               75        11        5017             1388        ⋯\n",
       "97  104               77        14        7287             2083        ⋯\n",
       "101  84               78        10        5624             1679        ⋯\n",
       "113 105               62        13        6063             1646        ⋯\n",
       "164 110               62        13        7127             2163        ⋯\n",
       "180  83               94        13        6090             1840        ⋯\n",
       "218 119               89        15        7292             1954        ⋯\n",
       "230  54               79         9        4739             1169        ⋯\n",
       "249  74               89         8        4071             1182        ⋯\n",
       "314  71              105         5        2778              978        ⋯\n",
       "    League_1986 Division_1986 Team_1986 Position_1986 Put_outs_1986\n",
       "83  A           E             N.Y.      1B            1377         \n",
       "85  N           W             Atl.      CF             303         \n",
       "97  A           E             N.Y.      RF             292         \n",
       "101 A           E             Bal.      1B            1045         \n",
       "113 N           E             N.Y.      C              869         \n",
       "164 A           E             Bos.      LF             330         \n",
       "180 N           E             N.Y.      1B            1199         \n",
       "218 N           E             Phi.      3B              78         \n",
       "230 N           E             St.L.     SS             229         \n",
       "249 A           E             N.Y.      CF             426         \n",
       "314 A           E             Bos.      3B             121         \n",
       "    Assists_1986 Errors_1986 Salary_1987 League_1987 Team_1987\n",
       "83  100           6          1975.000    A           N.Y.     \n",
       "85    6           6          1900.000    N           Atl.     \n",
       "97    9           5          1861.460    A           N.Y.     \n",
       "101  88          13          2460.000    A           Bal.     \n",
       "113  62           8          1925.571    N           N.Y.     \n",
       "164  16           8          2412.500    A           Bos.     \n",
       "180 149           5          1800.000    N           N.Y.     \n",
       "218 220           6          2127.333    N           Phi.     \n",
       "230 453          15          1940.000    N           St.L.    \n",
       "249   4           6          1670.000    A           N.Y.     \n",
       "314 267          19          1600.000    A           Bos.     "
      ]
     },
     "metadata": {},
     "output_type": "display_data"
    },
    {
     "data": {
      "image/png": "[encoded data removed]",
      "text/plain": [
       "Plot with title \"Boxplot des salaires\""
      ]
     },
     "metadata": {
      "image/png": {
       "height": 420,
       "width": 420
      }
     },
     "output_type": "display_data"
    }
   ],
   "source": [
    "\n",
    "summary(Baseball$Salary_1987)\n",
    "\n",
    "Q1 <- quantile(Baseball$Salary_1987, 0.25, na.rm = TRUE)  # 1er quartile\n",
    "Q3 <- quantile(Baseball$Salary_1987, 0.75, na.rm = TRUE)  # 3e quartile\n",
    "IQR <- Q3 - Q1\n",
    "print(paste(\"Intervalle interquartile : \",IQR))\n",
    "\n",
    "# Calcul des limites\n",
    "lower_limit <- Q1 - 1.5 * IQR\n",
    "upper_limit <- Q3 + 1.5 * IQR\n",
    "\n",
    "outliers <- Baseball[Baseball$Salary_1987 > upper_limit, ] # on séléctionne toutes les gens qui ont des données supérieurs à Q3 \n",
    "                                                                # ont peut voir ça sur le boxplot\n",
    "View(outliers)\n",
    "boxplot(Baseball$Salary_1987, main = \"Boxplot des salaires\", ylab = \"Salaires\", col = \"green\")\n",
    "abline(h = upper_limit, col = \"red\", lwd = 2, lty = 2)"
   ]
  },
  {
   "cell_type": "code",
   "execution_count": 33,
   "metadata": {
    "vscode": {
     "languageId": "r"
    }
   },
   "outputs": [
    {
     "data": {
      "text/plain": [
       "\n",
       "\n",
       "Table: Moyenne et Médiane des Salaires par Ligue (1886)\n",
       "\n",
       "|   |Ligue | Moyenne| Médiane|\n",
       "|:--|:-----|-------:|-------:|\n",
       "|A  |A     |  543.44|   420.0|\n",
       "|N  |N     |  540.81|   462.5|"
      ]
     },
     "metadata": {},
     "output_type": "display_data"
    },
    {
     "data": {
      "text/plain": [
       "\n",
       "\n",
       "Table: Moyenne et Médiane des Salaires par Ligue (1987)\n",
       "\n",
       "|   |Ligue | Moyenne| Médiane|\n",
       "|:--|:-----|-------:|-------:|\n",
       "|A  |A     |  538.53|     400|\n",
       "|N  |N     |  546.44|     495|"
      ]
     },
     "metadata": {},
     "output_type": "display_data"
    }
   ],
   "source": [
    "# Calcul de la moyenne et de la médiane des salaires par ligue\n",
    "moy_salary_league_86 <- tapply(Baseball$Salary_1987, Baseball$League_1986, mean, na.rm = TRUE)\n",
    "med_salary_league_86 <- tapply(Baseball$Salary_1987, Baseball$League_1986, median, na.rm = TRUE)\n",
    "\n",
    "moy_med_86 <- data.frame(\n",
    "  Ligue = names(moy_salary_league_86),\n",
    "  Moyenne_Salaire = round(moy_salary_league_86, 2),\n",
    "  Mediane_Salaire = round(med_salary_league_86, 2)\n",
    ")\n",
    "\n",
    "# Affichage du tableau avec kable pour une sortie lisible\n",
    "library(knitr)\n",
    "\n",
    "kable(moy_med_86, caption = \"Moyenne et Médiane des Salaires par Ligue (1886)\", \n",
    "      col.names = c(\"Ligue\", \"Moyenne\", \"Médiane\"), format = \"markdown\")\n",
    "\n",
    "\n",
    "moy_salary_league_87 <- tapply(Baseball$Salary_1987, Baseball$League_1987, mean, na.rm = TRUE)\n",
    "med_salary_league_87 <- tapply(Baseball$Salary_1987, Baseball$League_1987, median, na.rm = TRUE)\n",
    "\n",
    "moy_med_87 <- data.frame(\n",
    "  Ligue = names(moy_salary_league_87),\n",
    "  Moyenne_Salaire = round(moy_salary_league_87, 2),\n",
    "  Mediane_Salaire = round(med_salary_league_87, 2)\n",
    ")\n",
    "kable(moy_med_87, caption = \"Moyenne et Médiane des Salaires par Ligue (1987)\", \n",
    "      col.names = c(\"Ligue\", \"Moyenne\", \"Médiane\"), format = \"markdown\")"
   ]
  },
  {
   "cell_type": "markdown",
   "metadata": {},
   "source": [
    "### <font color = \"orange\"> 1.3.2. Test des moyennes des salaires pour chaque groupe de League_1986 et League_1987</font>"
   ]
  },
  {
   "cell_type": "code",
   "execution_count": 36,
   "metadata": {},
   "outputs": [
    {
     "data": {
      "text/plain": [
       "\n",
       "\tF test to compare two variances\n",
       "\n",
       "data:  salaire_league_1986_N and salaire_league_1986_A\n",
       "F = 0.87773, num df = 123, denom df = 138, p-value = 0.4607\n",
       "alternative hypothesis: true ratio of variances is not equal to 1\n",
       "95 percent confidence interval:\n",
       " 0.6225652 1.2417739\n",
       "sample estimates:\n",
       "ratio of variances \n",
       "         0.8777296 \n"
      ]
     },
     "metadata": {},
     "output_type": "display_data"
    },
    {
     "data": {
      "text/plain": [
       "\n",
       "\tWelch Two Sample t-test\n",
       "\n",
       "data:  Salary_1987 by League_1986\n",
       "t = 0.047354, df = 260.36, p-value = 0.9623\n",
       "alternative hypothesis: true difference in means between group A and group N is not equal to 0\n",
       "95 percent confidence interval:\n",
       " -106.6252  111.8799\n",
       "sample estimates:\n",
       "mean in group A mean in group N \n",
       "       543.4384        540.8110 \n"
      ]
     },
     "metadata": {},
     "output_type": "display_data"
    },
    {
     "data": {
      "text/plain": [
       "\n",
       "\tWelch Two Sample t-test\n",
       "\n",
       "data:  Salary_1987 by League_1987\n",
       "t = -0.1423, df = 258.29, p-value = 0.887\n",
       "alternative hypothesis: true difference in means between group A and group N is not equal to 0\n",
       "95 percent confidence interval:\n",
       " -117.3359  101.5207\n",
       "sample estimates:\n",
       "mean in group A mean in group N \n",
       "       538.5315        546.4391 \n"
      ]
     },
     "metadata": {},
     "output_type": "display_data"
    }
   ],
   "source": [
    "# Test sur les moyennes de chaque League\n",
    "salaire_league_1986_N <- Baseball$Salary_1987[Baseball$League_1986 == \"N\"]\n",
    "salaire_league_1986_A <- Baseball$Salary_1987[Baseball$League_1986 == \"A\"]\n",
    "salaire_league_1987_N <- Baseball$Salary_1987[Baseball$League_1987 == \"N\"]\n",
    "salaire_league_1987_A <- Baseball$Salary_1987[Baseball$League_1987 == \"A\"]\n",
    "\n",
    "var.test(salaire_league_1986_N,salaire_league_1986_A)\n",
    "t.test(Salary_1987 ~ League_1986,data=Baseball,var.equal = FALSE)\n",
    "t.test(Salary_1987 ~ League_1987,data=Baseball,var.equal = FALSE)"
   ]
  },
  {
   "cell_type": "markdown",
   "metadata": {},
   "source": [
    "### <font color = \"orange\"> 1.3.3. Variables League_1986 et League_1987</font>"
   ]
  },
  {
   "cell_type": "markdown",
   "metadata": {},
   "source": [
    "Ce sont des variables catégorielles car elles sont représentées par \"A\" ou \"N\"."
   ]
  },
  {
   "cell_type": "code",
   "execution_count": 45,
   "metadata": {
    "vscode": {
     "languageId": "r"
    }
   },
   "outputs": [
    {
     "name": "stdout",
     "output_type": "stream",
     "text": [
      "\n",
      "  A   N \n",
      "139 124 \n",
      "\n",
      "       A        N \n",
      "52.85171 47.14829 \n"
     ]
    },
    {
     "data": {
      "image/png": "[encoded data removed]",
      "text/plain": [
       "Plot with title \"Répartition des Ligues (1986)\""
      ]
     },
     "metadata": {
      "image/png": {
       "height": 420,
       "width": 420
      }
     },
     "output_type": "display_data"
    }
   ],
   "source": [
    "# Année 1986\n",
    "table_league <- table(Baseball$League_1986)\n",
    "prop_table_league <- prop.table(table_league) * 100\n",
    "print(table_league)\n",
    "print(prop_table_league)\n",
    "barplot(table_league, col = c(\"blue\", \"red\"), main = \"Répartition des Ligues (1986)\",\n",
    "        xlab = \"Ligue\", ylab = \"Effectif\")\n"
   ]
  },
  {
   "cell_type": "code",
   "execution_count": 47,
   "metadata": {
    "vscode": {
     "languageId": "r"
    }
   },
   "outputs": [
    {
     "name": "stdout",
     "output_type": "stream",
     "text": [
      "\n",
      "  A   N \n",
      "141 122 \n",
      "\n",
      "       A        N \n",
      "53.61217 46.38783 \n"
     ]
    },
    {
     "data": {
      "image/png": "[encoded data removed]",
      "text/plain": [
       "Plot with title \"Répartition des Ligues (1987)\""
      ]
     },
     "metadata": {
      "image/png": {
       "height": 420,
       "width": 420
      }
     },
     "output_type": "display_data"
    }
   ],
   "source": [
    "# Année 1987\n",
    "table_league <- table(Baseball$League_1987)\n",
    "prop_table_league <- prop.table(table_league) * 100\n",
    "print(table_league)\n",
    "print(prop_table_league)\n",
    "barplot(table_league, col = c(\"blue\", \"red\"), main = \"Répartition des Ligues (1987)\",\n",
    "        xlab = \"Ligue\", ylab = \"Effectif\")"
   ]
  },
  {
   "cell_type": "markdown",
   "metadata": {},
   "source": [
    "### <font color = \"orange\"> 1.3.4. Analyse des salaires en fonction de League_1986 et League_1987 avec comparaison</font>"
   ]
  },
  {
   "cell_type": "code",
   "execution_count": 52,
   "metadata": {
    "vscode": {
     "languageId": "r"
    }
   },
   "outputs": [
    {
     "data": {
      "image/png": "[encoded data removed]",
      "text/plain": [
       "Plot with title \"Salaires par Ligue (1986)\""
      ]
     },
     "metadata": {
      "image/png": {
       "height": 420,
       "width": 420
      }
     },
     "output_type": "display_data"
    }
   ],
   "source": [
    "boxplot(Salary_1987 ~ League_1986, data = Baseball, main = \"Salaires par Ligue (1986)\", xlab = \"Ligue\", ylab = \"Salaire\", col = \"yellow\")"
   ]
  },
  {
   "cell_type": "code",
   "execution_count": 54,
   "metadata": {
    "vscode": {
     "languageId": "r"
    }
   },
   "outputs": [
    {
     "data": {
      "image/png": "[encoded data removed]",
      "text/plain": [
       "Plot with title \"Salaires par Ligue (1987)\""
      ]
     },
     "metadata": {
      "image/png": {
       "height": 420,
       "width": 420
      }
     },
     "output_type": "display_data"
    }
   ],
   "source": [
    "boxplot(Salary_1987 ~ League_1987, data = Baseball, main = \"Salaires par Ligue (1987)\", xlab = \"Ligue\", ylab = \"Salaire\", col = \"pink\")"
   ]
  },
  {
   "cell_type": "markdown",
   "metadata": {},
   "source": [
    "### <font color = \"orange\"> 1.3.5. Analyse des performances en 1986</font>"
   ]
  },
  {
   "cell_type": "code",
   "execution_count": 57,
   "metadata": {
    "vscode": {
     "languageId": "r"
    }
   },
   "outputs": [
    {
     "data": {
      "text/plain": [
       "   Min. 1st Qu.  Median    Mean 3rd Qu.    Max. \n",
       "  127.0   285.5   416.0   408.3   527.0   687.0 "
      ]
     },
     "metadata": {},
     "output_type": "display_data"
    },
    {
     "data": {
      "text/plain": [
       "   Min. 1st Qu.  Median    Mean 3rd Qu.    Max. \n",
       "   32.0    73.0   108.0   109.2   142.0   238.0 "
      ]
     },
     "metadata": {},
     "output_type": "display_data"
    },
    {
     "data": {
      "text/plain": [
       "   Min. 1st Qu.  Median    Mean 3rd Qu.    Max. \n",
       "   0.00    5.00    9.00   11.83   18.00   40.00 "
      ]
     },
     "metadata": {},
     "output_type": "display_data"
    },
    {
     "data": {
      "text/html": [
       "408.285171102662"
      ],
      "text/latex": [
       "408.285171102662"
      ],
      "text/markdown": [
       "408.285171102662"
      ],
      "text/plain": [
       "[1] 408.2852"
      ]
     },
     "metadata": {},
     "output_type": "display_data"
    },
    {
     "data": {
      "text/html": [
       "142.633058438138"
      ],
      "text/latex": [
       "142.633058438138"
      ],
      "text/markdown": [
       "142.633058438138"
      ],
      "text/plain": [
       "[1] 142.6331"
      ]
     },
     "metadata": {},
     "output_type": "display_data"
    }
   ],
   "source": [
    "# Statistiques descriptives\n",
    "summary(Baseball$Bat_times_86)  # Apparitions au bâton\n",
    "summary(Baseball$Hits_86)       # Coups sûrs\n",
    "summary(Baseball$Home_runs_1986) # Home runs\n",
    "\n",
    "# Moyenne et écart-type\n",
    "mean(Baseball$Bat_times_86, na.rm = TRUE)\n",
    "sd(Baseball$Bat_times_86, na.rm = TRUE)"
   ]
  },
  {
   "cell_type": "code",
   "execution_count": 59,
   "metadata": {
    "vscode": {
     "languageId": "r"
    }
   },
   "outputs": [
    {
     "data": {
      "image/png": "[encoded data removed]",
      "text/plain": [
       "Plot with title \"Distribution des Apparitions au Bâton (1986)\""
      ]
     },
     "metadata": {
      "image/png": {
       "height": 420,
       "width": 420
      }
     },
     "output_type": "display_data"
    },
    {
     "data": {
      "image/png": "[encoded data removed]",
      "text/plain": [
       "Plot with title \"Répartition des Coups Sûrs (1986)\""
      ]
     },
     "metadata": {
      "image/png": {
       "height": 420,
       "width": 420
      }
     },
     "output_type": "display_data"
    },
    {
     "data": {
      "image/png": "[encoded data removed]",
      "text/plain": [
       "Plot with title \"Répartition des Coups Sûrs (1986)\""
      ]
     },
     "metadata": {
      "image/png": {
       "height": 420,
       "width": 420
      }
     },
     "output_type": "display_data"
    },
    {
     "data": {
      "image/png": "[encoded data removed]",
      "text/plain": [
       "Plot with title \"Distribution des Home Runs (1986)\""
      ]
     },
     "metadata": {
      "image/png": {
       "height": 420,
       "width": 420
      }
     },
     "output_type": "display_data"
    }
   ],
   "source": [
    "# Histogramme des apparitions au bâton\n",
    "hist(Baseball$Bat_times_86, \n",
    "     main = \"Distribution des Apparitions au Bâton (1986)\", \n",
    "     xlab = \"Apparitions au bâton\", \n",
    "     col = \"skyblue\", \n",
    "     breaks = 10)\n",
    "\n",
    "# Boxplot des coups sûrs\n",
    "boxplot(Baseball$Hits_86, \n",
    "        main = \"Répartition des Coups Sûrs (1986)\", \n",
    "        ylab = \"Coups Sûrs\", \n",
    "        col = \"lightgreen\")\n",
    "hist(Baseball$Hits_86, \n",
    "        main = \"Répartition des Coups Sûrs (1986)\", \n",
    "        ylab = \"Coups Sûrs\", \n",
    "        col = \"lightgreen\")\n",
    "\n",
    "# Histogramme des home runs\n",
    "hist(Baseball$Home_runs_1986, \n",
    "     main = \"Distribution des Home Runs (1986)\", \n",
    "     xlab = \"Home Runs\", \n",
    "     col = \"orange\", \n",
    "     breaks = 10)\n"
   ]
  },
  {
   "cell_type": "code",
   "execution_count": 63,
   "metadata": {
    "vscode": {
     "languageId": "r"
    }
   },
   "outputs": [
    {
     "name": "stdout",
     "output_type": "stream",
     "text": [
      "            Name Bat_times_86 Hits_86 Home_runs_1986 Runs_1986 Runs_batted_1986\n",
      "83 Don Mattingly          677     238             31       117              113\n",
      "   Walks_1986 Longevity Bat_times_career Hits_career Home_runs_career\n",
      "83         53         5             2223         737               93\n",
      "   Runs_career Runs_batted_career Walks_career League_1986 Division_1986\n",
      "83         349                401          171           A             E\n",
      "   Team_1986 Position_1986 Put_outs_1986 Assists_1986 Errors_1986 Salary_1987\n",
      "83      N.Y.            1B          1377          100           6        1975\n",
      "   League_1987 Team_1987\n",
      "83           A      N.Y.\n",
      "              Name Bat_times_86 Hits_86 Home_runs_1986 Runs_1986\n",
      "137 Jesse Barfield          589     170             40       107\n",
      "    Runs_batted_1986 Walks_1986 Longevity Bat_times_career Hits_career\n",
      "137              108         69         6             2325         634\n",
      "    Home_runs_career Runs_career Runs_batted_career Walks_career League_1986\n",
      "137              128         371                376          238           A\n",
      "    Division_1986 Team_1986 Position_1986 Put_outs_1986 Assists_1986\n",
      "137             E      Tor.            RF           368           20\n",
      "    Errors_1986 Salary_1987 League_1987 Team_1987\n",
      "137           3      1237.5           A      Tor.\n"
     ]
    }
   ],
   "source": [
    "# Joueurs avec le plus grand nombre de coups sûrs\n",
    "top_hits <- Baseball[Baseball$Hits_86 == max(Baseball$Hits_86, na.rm = TRUE), ]\n",
    "print(top_hits)\n",
    "\n",
    "# Joueurs avec le plus grand nombre de home runs\n",
    "top_home_runs <- Baseball[Baseball$Home_runs_1986 == max(Baseball$Home_runs_1986, na.rm = TRUE), ]\n",
    "print(top_home_runs)\n"
   ]
  },
  {
   "cell_type": "code",
   "execution_count": 55,
   "metadata": {
    "vscode": {
     "languageId": "r"
    }
   },
   "outputs": [
    {
     "data": {
      "image/png": "[encoded data removed]",
      "text/plain": [
       "Plot with title \"Relation entre Apparitions et Coups Sûrs (1986)\""
      ]
     },
     "metadata": {
      "image/png": {
       "height": 420,
       "width": 420
      }
     },
     "output_type": "display_data"
    }
   ],
   "source": [
    "# Graphique de dispersion\n",
    "plot(Baseball$Bat_times_86, Baseball$Hits_86, \n",
    "     main = \"Relation entre Apparitions et Coups Sûrs (1986)\", \n",
    "     xlab = \"Apparitions au bâton\", \n",
    "     ylab = \"Coups Sûrs\", \n",
    "     col = \"blue\", \n",
    "     pch = 16)\n",
    "\n",
    "# Ajouter une ligne de tendance\n",
    "abline(lm(Baseball$Hits_86 ~ Baseball$Bat_times_86, data = Baseball), col = \"red\")"
   ]
  },
  {
   "cell_type": "code",
   "execution_count": 56,
   "metadata": {
    "vscode": {
     "languageId": "r"
    }
   },
   "outputs": [
    {
     "data": {
      "text/plain": [
       "   Min. 1st Qu.  Median    Mean 3rd Qu.    Max. \n",
       " 0.2000  0.2452  0.2632  0.2638  0.2798  0.3569 "
      ]
     },
     "metadata": {},
     "output_type": "display_data"
    },
    {
     "data": {
      "text/plain": [
       "   Min. 1st Qu.  Median    Mean 3rd Qu.    Max. \n",
       "   22.0    66.0   103.0   107.8   143.0   230.0 "
      ]
     },
     "metadata": {},
     "output_type": "display_data"
    },
    {
     "data": {
      "image/png": "[encoded data removed]",
      "text/plain": [
       "Plot with title \"Distribution du taux de frappe\""
      ]
     },
     "metadata": {
      "image/png": {
       "height": 420,
       "width": 420
      }
     },
     "output_type": "display_data"
    }
   ],
   "source": [
    "# Ajouter des indicateurs\n",
    "Baseball$Batting_Average <- Baseball$Hits_86 / Baseball$Bat_times_86 # Ce ratio mesure l’efficacité du joueur à frapper la balle.\n",
    "Baseball$Total_Contribution <- Baseball$Runs_1986 + Baseball$Runs_batted_1986 # Cela mesure combien de points le joueur a contribué directement ou indirectement.\n",
    "\n",
    "\n",
    "# Résumé des indicateurs\n",
    "summary(Baseball$Batting_Average)\n",
    "summary(Baseball$Total_Contribution)\n",
    "\n",
    "# Visualisation\n",
    "hist(Baseball$Batting_Average, main = \"Distribution du taux de frappe\", xlab = \"Taux de frappe\", col = \"skyblue\", breaks = 20)"
   ]
  },
  {
   "cell_type": "code",
   "execution_count": 58,
   "metadata": {
    "vscode": {
     "languageId": "r"
    }
   },
   "outputs": [
    {
     "data": {
      "image/png": "[encoded data removed]",
      "text/plain": [
       "Plot with title \"Distribution de la contribution totale\""
      ]
     },
     "metadata": {
      "image/png": {
       "height": 420,
       "width": 420
      }
     },
     "output_type": "display_data"
    },
    {
     "data": {
      "image/png": "[encoded data removed]",
      "text/plain": [
       "Plot with title \"Boxplot de la contribution totale\""
      ]
     },
     "metadata": {
      "image/png": {
       "height": 420,
       "width": 420
      }
     },
     "output_type": "display_data"
    }
   ],
   "source": [
    "hist(Baseball$Total_Contribution, \n",
    "     main = \"Distribution de la contribution totale\", \n",
    "     xlab = \"Contribution totale (points)\", \n",
    "     col = \"lightblue\", \n",
    "     breaks = 20)\n",
    "\n",
    "boxplot(Baseball$Total_Contribution, \n",
    "        main = \"Boxplot de la contribution totale\", \n",
    "        ylab = \"Contribution totale (points)\", \n",
    "        col = \"orange\")"
   ]
  },
  {
   "cell_type": "code",
   "execution_count": 60,
   "metadata": {
    "vscode": {
     "languageId": "r"
    }
   },
   "outputs": [
    {
     "data": {
      "text/plain": [
       "   Min. 1st Qu.  Median    Mean 3rd Qu.    Max. \n",
       "0.01408 0.07564 0.09896 0.10300 0.12730 0.25581 "
      ]
     },
     "metadata": {},
     "output_type": "display_data"
    },
    {
     "data": {
      "image/png": "[encoded data removed]",
      "text/plain": [
       "Plot with title \"Distribution du Walk Ratio\""
      ]
     },
     "metadata": {
      "image/png": {
       "height": 420,
       "width": 420
      }
     },
     "output_type": "display_data"
    }
   ],
   "source": [
    "# Vérification des valeurs valides pour éviter des divisions par zéro\n",
    "Baseball$Walk_Ratio <- ifelse(Baseball$Bat_times_86 > 0 & !is.na(Baseball$Bat_times_86), \n",
    "                              Baseball$Walks_1986 / Baseball$Bat_times_86, \n",
    "                              NA)\n",
    "#Ce ratio représente la proportion de fois où un joueur a obtenu une base sur balles par rapport à ses apparitions au bâton.\n",
    "# Résumé statistique\n",
    "summary(Baseball$Walk_Ratio)\n",
    "\n",
    "# Visualisation\n",
    "hist(Baseball$Walk_Ratio, main = \"Distribution du Walk Ratio\", \n",
    "     xlab = \"Walk Ratio\", col = \"lightgreen\", breaks = 20)"
   ]
  },
  {
   "cell_type": "code",
   "execution_count": 62,
   "metadata": {
    "vscode": {
     "languageId": "r"
    }
   },
   "outputs": [
    {
     "data": {
      "text/plain": [
       "   Min. 1st Qu.  Median    Mean 3rd Qu.    Max.    NA's \n",
       " 0.8653  0.9682  0.9798  0.9752  0.9888  1.0000      11 "
      ]
     },
     "metadata": {},
     "output_type": "display_data"
    },
    {
     "data": {
      "image/png": "[encoded data removed]",
      "text/plain": [
       "Plot with title \"Distribution de l'efficacité défensive\""
      ]
     },
     "metadata": {
      "image/png": {
       "height": 420,
       "width": 420
      }
     },
     "output_type": "display_data"
    }
   ],
   "source": [
    "# Calcul de l'efficacité défensive\n",
    "Baseball$Defensive_Efficiency <- ifelse(\n",
    "  (Baseball$Put_outs_1986 + Baseball$Assists_1986 + Baseball$Errors_1986) > 0,\n",
    "  (Baseball$Put_outs_1986 + Baseball$Assists_1986) / \n",
    "  (Baseball$Put_outs_1986 + Baseball$Assists_1986 + Baseball$Errors_1986),\n",
    "  NA\n",
    ")\n",
    "\n",
    "# Résumé statistique\n",
    "summary(Baseball$Defensive_Efficiency)\n",
    "\n",
    "# Visualisation\n",
    "hist(Baseball$Defensive_Efficiency, main = \"Distribution de l'efficacité défensive\", \n",
    "     xlab = \"Efficacité défensive\", col = \"orange\", breaks = 20)"
   ]
  },
  {
   "cell_type": "markdown",
   "metadata": {},
   "source": [
    "Pour améliorer la qualité du modèle (R²) vaut mieux qu'on ajoute d'autres variables\n"
   ]
  },
  {
   "cell_type": "code",
   "execution_count": 72,
   "metadata": {
    "vscode": {
     "languageId": "r"
    }
   },
   "outputs": [
    {
     "data": {
      "image/png": "[encoded data removed]",
      "text/plain": [
       "Plot with title \"Résidus vs Valeurs ajustées\""
      ]
     },
     "metadata": {
      "image/png": {
       "height": 420,
       "width": 420
      }
     },
     "output_type": "display_data"
    }
   ],
   "source": [
    "plot(model$residuals ~ model$fitted.values, main = \"Résidus vs Valeurs ajustées\")\n",
    "abline(h = 0, col = \"red\")"
   ]
  },
  {
   "cell_type": "markdown",
   "metadata": {},
   "source": [
    "# <font color = \"blue\"> 2. ACP et questions soulevées</font>"
   ]
  },
  {
   "cell_type": "markdown",
   "metadata": {},
   "source": [
    "## <font color = \"green\"> 2.1. Prétaitement des données </font>"
   ]
  },
  {
   "cell_type": "code",
   "execution_count": 86,
   "metadata": {
    "vscode": {
     "languageId": "r"
    }
   },
   "outputs": [
    {
     "data": {
      "text/html": [
       "<table class=\"dataframe\">\n",
       "<caption>A data.frame: 6 × 17</caption>\n",
       "<thead>\n",
       "\t<tr><th></th><th scope=col>Bat_times_86</th><th scope=col>Hits_86</th><th scope=col>Home_runs_1986</th><th scope=col>Runs_1986</th><th scope=col>Runs_batted_1986</th><th scope=col>Walks_1986</th><th scope=col>Longevity</th><th scope=col>Bat_times_career</th><th scope=col>Hits_career</th><th scope=col>Home_runs_career</th><th scope=col>Runs_career</th><th scope=col>Runs_batted_career</th><th scope=col>Walks_career</th><th scope=col>Put_outs_1986</th><th scope=col>Assists_1986</th><th scope=col>Errors_1986</th><th scope=col>Salary_1987</th></tr>\n",
       "\t<tr><th></th><th scope=col>&lt;int&gt;</th><th scope=col>&lt;int&gt;</th><th scope=col>&lt;int&gt;</th><th scope=col>&lt;int&gt;</th><th scope=col>&lt;int&gt;</th><th scope=col>&lt;int&gt;</th><th scope=col>&lt;int&gt;</th><th scope=col>&lt;int&gt;</th><th scope=col>&lt;int&gt;</th><th scope=col>&lt;int&gt;</th><th scope=col>&lt;int&gt;</th><th scope=col>&lt;int&gt;</th><th scope=col>&lt;int&gt;</th><th scope=col>&lt;int&gt;</th><th scope=col>&lt;int&gt;</th><th scope=col>&lt;int&gt;</th><th scope=col>&lt;dbl&gt;</th></tr>\n",
       "</thead>\n",
       "<tbody>\n",
       "\t<tr><th scope=row>2</th><td>315</td><td> 81</td><td> 7</td><td>24</td><td>38</td><td>39</td><td>14</td><td>3449</td><td> 835</td><td> 69</td><td>321</td><td>414</td><td>375</td><td>632</td><td> 43</td><td>10</td><td>475.0</td></tr>\n",
       "\t<tr><th scope=row>3</th><td>479</td><td>130</td><td>18</td><td>66</td><td>72</td><td>76</td><td> 3</td><td>1624</td><td> 457</td><td> 63</td><td>224</td><td>266</td><td>263</td><td>880</td><td> 82</td><td>14</td><td>480.0</td></tr>\n",
       "\t<tr><th scope=row>4</th><td>496</td><td>141</td><td>20</td><td>65</td><td>78</td><td>37</td><td>11</td><td>5628</td><td>1575</td><td>225</td><td>828</td><td>838</td><td>354</td><td>200</td><td> 11</td><td> 3</td><td>500.0</td></tr>\n",
       "\t<tr><th scope=row>5</th><td>321</td><td> 87</td><td>10</td><td>39</td><td>42</td><td>30</td><td> 2</td><td> 396</td><td> 101</td><td> 12</td><td> 48</td><td> 46</td><td> 33</td><td>805</td><td> 40</td><td> 4</td><td> 91.5</td></tr>\n",
       "\t<tr><th scope=row>6</th><td>594</td><td>169</td><td> 4</td><td>74</td><td>51</td><td>35</td><td>11</td><td>4408</td><td>1133</td><td> 19</td><td>501</td><td>336</td><td>194</td><td>282</td><td>421</td><td>25</td><td>750.0</td></tr>\n",
       "\t<tr><th scope=row>7</th><td>185</td><td> 37</td><td> 1</td><td>23</td><td> 8</td><td>21</td><td> 2</td><td> 214</td><td>  42</td><td>  1</td><td> 30</td><td>  9</td><td> 24</td><td> 76</td><td>127</td><td> 7</td><td> 70.0</td></tr>\n",
       "</tbody>\n",
       "</table>\n"
      ],
      "text/latex": [
       "A data.frame: 6 × 17\n",
       "\\begin{tabular}{r|lllllllllllllllll}\n",
       "  & Bat\\_times\\_86 & Hits\\_86 & Home\\_runs\\_1986 & Runs\\_1986 & Runs\\_batted\\_1986 & Walks\\_1986 & Longevity & Bat\\_times\\_career & Hits\\_career & Home\\_runs\\_career & Runs\\_career & Runs\\_batted\\_career & Walks\\_career & Put\\_outs\\_1986 & Assists\\_1986 & Errors\\_1986 & Salary\\_1987\\\\\n",
       "  & <int> & <int> & <int> & <int> & <int> & <int> & <int> & <int> & <int> & <int> & <int> & <int> & <int> & <int> & <int> & <int> & <dbl>\\\\\n",
       "\\hline\n",
       "\t2 & 315 &  81 &  7 & 24 & 38 & 39 & 14 & 3449 &  835 &  69 & 321 & 414 & 375 & 632 &  43 & 10 & 475.0\\\\\n",
       "\t3 & 479 & 130 & 18 & 66 & 72 & 76 &  3 & 1624 &  457 &  63 & 224 & 266 & 263 & 880 &  82 & 14 & 480.0\\\\\n",
       "\t4 & 496 & 141 & 20 & 65 & 78 & 37 & 11 & 5628 & 1575 & 225 & 828 & 838 & 354 & 200 &  11 &  3 & 500.0\\\\\n",
       "\t5 & 321 &  87 & 10 & 39 & 42 & 30 &  2 &  396 &  101 &  12 &  48 &  46 &  33 & 805 &  40 &  4 &  91.5\\\\\n",
       "\t6 & 594 & 169 &  4 & 74 & 51 & 35 & 11 & 4408 & 1133 &  19 & 501 & 336 & 194 & 282 & 421 & 25 & 750.0\\\\\n",
       "\t7 & 185 &  37 &  1 & 23 &  8 & 21 &  2 &  214 &   42 &   1 &  30 &   9 &  24 &  76 & 127 &  7 &  70.0\\\\\n",
       "\\end{tabular}\n"
      ],
      "text/markdown": [
       "\n",
       "A data.frame: 6 × 17\n",
       "\n",
       "| <!--/--> | Bat_times_86 &lt;int&gt; | Hits_86 &lt;int&gt; | Home_runs_1986 &lt;int&gt; | Runs_1986 &lt;int&gt; | Runs_batted_1986 &lt;int&gt; | Walks_1986 &lt;int&gt; | Longevity &lt;int&gt; | Bat_times_career &lt;int&gt; | Hits_career &lt;int&gt; | Home_runs_career &lt;int&gt; | Runs_career &lt;int&gt; | Runs_batted_career &lt;int&gt; | Walks_career &lt;int&gt; | Put_outs_1986 &lt;int&gt; | Assists_1986 &lt;int&gt; | Errors_1986 &lt;int&gt; | Salary_1987 &lt;dbl&gt; |\n",
       "|---|---|---|---|---|---|---|---|---|---|---|---|---|---|---|---|---|---|\n",
       "| 2 | 315 |  81 |  7 | 24 | 38 | 39 | 14 | 3449 |  835 |  69 | 321 | 414 | 375 | 632 |  43 | 10 | 475.0 |\n",
       "| 3 | 479 | 130 | 18 | 66 | 72 | 76 |  3 | 1624 |  457 |  63 | 224 | 266 | 263 | 880 |  82 | 14 | 480.0 |\n",
       "| 4 | 496 | 141 | 20 | 65 | 78 | 37 | 11 | 5628 | 1575 | 225 | 828 | 838 | 354 | 200 |  11 |  3 | 500.0 |\n",
       "| 5 | 321 |  87 | 10 | 39 | 42 | 30 |  2 |  396 |  101 |  12 |  48 |  46 |  33 | 805 |  40 |  4 |  91.5 |\n",
       "| 6 | 594 | 169 |  4 | 74 | 51 | 35 | 11 | 4408 | 1133 |  19 | 501 | 336 | 194 | 282 | 421 | 25 | 750.0 |\n",
       "| 7 | 185 |  37 |  1 | 23 |  8 | 21 |  2 |  214 |   42 |   1 |  30 |   9 |  24 |  76 | 127 |  7 |  70.0 |\n",
       "\n"
      ],
      "text/plain": [
       "  Bat_times_86 Hits_86 Home_runs_1986 Runs_1986 Runs_batted_1986 Walks_1986\n",
       "2 315           81      7             24        38               39        \n",
       "3 479          130     18             66        72               76        \n",
       "4 496          141     20             65        78               37        \n",
       "5 321           87     10             39        42               30        \n",
       "6 594          169      4             74        51               35        \n",
       "7 185           37      1             23         8               21        \n",
       "  Longevity Bat_times_career Hits_career Home_runs_career Runs_career\n",
       "2 14        3449              835         69              321        \n",
       "3  3        1624              457         63              224        \n",
       "4 11        5628             1575        225              828        \n",
       "5  2         396              101         12               48        \n",
       "6 11        4408             1133         19              501        \n",
       "7  2         214               42          1               30        \n",
       "  Runs_batted_career Walks_career Put_outs_1986 Assists_1986 Errors_1986\n",
       "2 414                375          632            43          10         \n",
       "3 266                263          880            82          14         \n",
       "4 838                354          200            11           3         \n",
       "5  46                 33          805            40           4         \n",
       "6 336                194          282           421          25         \n",
       "7   9                 24           76           127           7         \n",
       "  Salary_1987\n",
       "2 475.0      \n",
       "3 480.0      \n",
       "4 500.0      \n",
       "5  91.5      \n",
       "6 750.0      \n",
       "7  70.0      "
      ]
     },
     "metadata": {},
     "output_type": "display_data"
    },
    {
     "name": "stdout",
     "output_type": "stream",
     "text": [
      "Class: pca dudi\n",
      "Call: dudi.pca(df = data_norm, scannf = FALSE, nf = 3)\n",
      "\n",
      "Total inertia: 17\n",
      "\n",
      "Eigenvalues:\n",
      "    Ax1     Ax2     Ax3     Ax4     Ax5 \n",
      " 7.7632  4.1345  1.7264  0.8989  0.7066 \n",
      "\n",
      "Projected inertia (%):\n",
      "    Ax1     Ax2     Ax3     Ax4     Ax5 \n",
      " 45.666  24.320  10.155   5.287   4.156 \n",
      "\n",
      "Cumulative projected inertia (%):\n",
      "    Ax1   Ax1:2   Ax1:3   Ax1:4   Ax1:5 \n",
      "  45.67   69.99   80.14   85.43   89.59 \n",
      "\n",
      "(Only 5 dimensions (out of 17) are shown)\n",
      "\n"
     ]
    }
   ],
   "source": [
    "# Variable numérique uniquement\n",
    "Baseball_num = na.omit(Baseball[,c(-1,-15,-16,-17,-18,-23,-24)])\n",
    "head(Baseball_num)\n",
    "\n",
    "data_norm = scale(Baseball_num)\n",
    "ACP_data = dudi.pca(df = data_norm, scannf = FALSE, nf = 3)\n",
    "\n",
    "summary(ACP_data)"
   ]
  },
  {
   "cell_type": "markdown",
   "metadata": {},
   "source": [
    "## <font color = \"green\"> 2.2. Visualisation des corrélations </font>"
   ]
  },
  {
   "cell_type": "code",
   "execution_count": 88,
   "metadata": {
    "vscode": {
     "languageId": "r"
    }
   },
   "outputs": [
    {
     "data": {
      "image/png": "[encoded data removed]",
      "text/plain": [
       "plot without title"
      ]
     },
     "metadata": {
      "image/png": {
       "height": 420,
       "width": 420
      }
     },
     "output_type": "display_data"
    },
    {
     "data": {
      "image/png": "[encoded data removed]",
      "text/plain": [
       "plot without title"
      ]
     },
     "metadata": {
      "image/png": {
       "height": 420,
       "width": 420
      }
     },
     "output_type": "display_data"
    },
    {
     "data": {
      "image/png": "[encoded data removed]",
      "text/plain": [
       "plot without title"
      ]
     },
     "metadata": {
      "image/png": {
       "height": 420,
       "width": 420
      }
     },
     "output_type": "display_data"
    }
   ],
   "source": [
    "# Affiche le cercle des corrélations\n",
    "fviz_pca_var(ACP_data, axes = c(1,2), repel=TRUE)\n",
    "fviz_pca_var(ACP_data, axes = c(2,3), repel=TRUE)\n",
    "fviz_pca_var(ACP_data, axes = c(1,3), repel=TRUE)"
   ]
  },
  {
   "cell_type": "markdown",
   "metadata": {},
   "source": [
    "### <font color = \"orange\"> 2.4.1. Les performances de 1986 sont-elles particulières par rapport aux performances sur l'ensemble de la carrière ? </font>"
   ]
  },
  {
   "cell_type": "code",
   "execution_count": 93,
   "metadata": {
    "vscode": {
     "languageId": "r"
    }
   },
   "outputs": [
    {
     "data": {
      "text/html": [
       "<table class=\"dataframe\">\n",
       "<caption>A data.frame: 6 × 6</caption>\n",
       "<thead>\n",
       "\t<tr><th></th><th scope=col>Bat_times_86</th><th scope=col>Hits_86</th><th scope=col>Home_runs_1986</th><th scope=col>Runs_1986</th><th scope=col>Runs_batted_1986</th><th scope=col>Walks_1986</th></tr>\n",
       "\t<tr><th></th><th scope=col>&lt;int&gt;</th><th scope=col>&lt;int&gt;</th><th scope=col>&lt;int&gt;</th><th scope=col>&lt;int&gt;</th><th scope=col>&lt;int&gt;</th><th scope=col>&lt;int&gt;</th></tr>\n",
       "</thead>\n",
       "<tbody>\n",
       "\t<tr><th scope=row>2</th><td>315</td><td> 81</td><td> 7</td><td>24</td><td>38</td><td>39</td></tr>\n",
       "\t<tr><th scope=row>3</th><td>479</td><td>130</td><td>18</td><td>66</td><td>72</td><td>76</td></tr>\n",
       "\t<tr><th scope=row>4</th><td>496</td><td>141</td><td>20</td><td>65</td><td>78</td><td>37</td></tr>\n",
       "\t<tr><th scope=row>5</th><td>321</td><td> 87</td><td>10</td><td>39</td><td>42</td><td>30</td></tr>\n",
       "\t<tr><th scope=row>6</th><td>594</td><td>169</td><td> 4</td><td>74</td><td>51</td><td>35</td></tr>\n",
       "\t<tr><th scope=row>7</th><td>185</td><td> 37</td><td> 1</td><td>23</td><td> 8</td><td>21</td></tr>\n",
       "</tbody>\n",
       "</table>\n"
      ],
      "text/latex": [
       "A data.frame: 6 × 6\n",
       "\\begin{tabular}{r|llllll}\n",
       "  & Bat\\_times\\_86 & Hits\\_86 & Home\\_runs\\_1986 & Runs\\_1986 & Runs\\_batted\\_1986 & Walks\\_1986\\\\\n",
       "  & <int> & <int> & <int> & <int> & <int> & <int>\\\\\n",
       "\\hline\n",
       "\t2 & 315 &  81 &  7 & 24 & 38 & 39\\\\\n",
       "\t3 & 479 & 130 & 18 & 66 & 72 & 76\\\\\n",
       "\t4 & 496 & 141 & 20 & 65 & 78 & 37\\\\\n",
       "\t5 & 321 &  87 & 10 & 39 & 42 & 30\\\\\n",
       "\t6 & 594 & 169 &  4 & 74 & 51 & 35\\\\\n",
       "\t7 & 185 &  37 &  1 & 23 &  8 & 21\\\\\n",
       "\\end{tabular}\n"
      ],
      "text/markdown": [
       "\n",
       "A data.frame: 6 × 6\n",
       "\n",
       "| <!--/--> | Bat_times_86 &lt;int&gt; | Hits_86 &lt;int&gt; | Home_runs_1986 &lt;int&gt; | Runs_1986 &lt;int&gt; | Runs_batted_1986 &lt;int&gt; | Walks_1986 &lt;int&gt; |\n",
       "|---|---|---|---|---|---|---|\n",
       "| 2 | 315 |  81 |  7 | 24 | 38 | 39 |\n",
       "| 3 | 479 | 130 | 18 | 66 | 72 | 76 |\n",
       "| 4 | 496 | 141 | 20 | 65 | 78 | 37 |\n",
       "| 5 | 321 |  87 | 10 | 39 | 42 | 30 |\n",
       "| 6 | 594 | 169 |  4 | 74 | 51 | 35 |\n",
       "| 7 | 185 |  37 |  1 | 23 |  8 | 21 |\n",
       "\n"
      ],
      "text/plain": [
       "  Bat_times_86 Hits_86 Home_runs_1986 Runs_1986 Runs_batted_1986 Walks_1986\n",
       "2 315           81      7             24        38               39        \n",
       "3 479          130     18             66        72               76        \n",
       "4 496          141     20             65        78               37        \n",
       "5 321           87     10             39        42               30        \n",
       "6 594          169      4             74        51               35        \n",
       "7 185           37      1             23         8               21        "
      ]
     },
     "metadata": {},
     "output_type": "display_data"
    },
    {
     "data": {
      "text/html": [
       "<table class=\"dataframe\">\n",
       "<caption>A data.frame: 6 × 6</caption>\n",
       "<thead>\n",
       "\t<tr><th></th><th scope=col>Bat_times_career</th><th scope=col>Hits_career</th><th scope=col>Home_runs_career</th><th scope=col>Runs_career</th><th scope=col>Runs_batted_career</th><th scope=col>Walks_career</th></tr>\n",
       "\t<tr><th></th><th scope=col>&lt;int&gt;</th><th scope=col>&lt;int&gt;</th><th scope=col>&lt;int&gt;</th><th scope=col>&lt;int&gt;</th><th scope=col>&lt;int&gt;</th><th scope=col>&lt;int&gt;</th></tr>\n",
       "</thead>\n",
       "<tbody>\n",
       "\t<tr><th scope=row>2</th><td>246</td><td> 59</td><td> 4</td><td>22</td><td>29</td><td>26</td></tr>\n",
       "\t<tr><th scope=row>3</th><td>541</td><td>152</td><td>21</td><td>74</td><td>88</td><td>87</td></tr>\n",
       "\t<tr><th scope=row>4</th><td>511</td><td>143</td><td>20</td><td>75</td><td>76</td><td>32</td></tr>\n",
       "\t<tr><th scope=row>5</th><td>198</td><td> 50</td><td> 6</td><td>24</td><td>23</td><td>16</td></tr>\n",
       "\t<tr><th scope=row>6</th><td>400</td><td>103</td><td> 1</td><td>45</td><td>30</td><td>17</td></tr>\n",
       "\t<tr><th scope=row>7</th><td>107</td><td> 21</td><td> 0</td><td>15</td><td> 4</td><td>12</td></tr>\n",
       "</tbody>\n",
       "</table>\n"
      ],
      "text/latex": [
       "A data.frame: 6 × 6\n",
       "\\begin{tabular}{r|llllll}\n",
       "  & Bat\\_times\\_career & Hits\\_career & Home\\_runs\\_career & Runs\\_career & Runs\\_batted\\_career & Walks\\_career\\\\\n",
       "  & <int> & <int> & <int> & <int> & <int> & <int>\\\\\n",
       "\\hline\n",
       "\t2 & 246 &  59 &  4 & 22 & 29 & 26\\\\\n",
       "\t3 & 541 & 152 & 21 & 74 & 88 & 87\\\\\n",
       "\t4 & 511 & 143 & 20 & 75 & 76 & 32\\\\\n",
       "\t5 & 198 &  50 &  6 & 24 & 23 & 16\\\\\n",
       "\t6 & 400 & 103 &  1 & 45 & 30 & 17\\\\\n",
       "\t7 & 107 &  21 &  0 & 15 &  4 & 12\\\\\n",
       "\\end{tabular}\n"
      ],
      "text/markdown": [
       "\n",
       "A data.frame: 6 × 6\n",
       "\n",
       "| <!--/--> | Bat_times_career &lt;int&gt; | Hits_career &lt;int&gt; | Home_runs_career &lt;int&gt; | Runs_career &lt;int&gt; | Runs_batted_career &lt;int&gt; | Walks_career &lt;int&gt; |\n",
       "|---|---|---|---|---|---|---|\n",
       "| 2 | 246 |  59 |  4 | 22 | 29 | 26 |\n",
       "| 3 | 541 | 152 | 21 | 74 | 88 | 87 |\n",
       "| 4 | 511 | 143 | 20 | 75 | 76 | 32 |\n",
       "| 5 | 198 |  50 |  6 | 24 | 23 | 16 |\n",
       "| 6 | 400 | 103 |  1 | 45 | 30 | 17 |\n",
       "| 7 | 107 |  21 |  0 | 15 |  4 | 12 |\n",
       "\n"
      ],
      "text/plain": [
       "  Bat_times_career Hits_career Home_runs_career Runs_career Runs_batted_career\n",
       "2 246               59          4               22          29                \n",
       "3 541              152         21               74          88                \n",
       "4 511              143         20               75          76                \n",
       "5 198               50          6               24          23                \n",
       "6 400              103          1               45          30                \n",
       "7 107               21          0               15           4                \n",
       "  Walks_career\n",
       "2 26          \n",
       "3 87          \n",
       "4 32          \n",
       "5 16          \n",
       "6 17          \n",
       "7 12          "
      ]
     },
     "metadata": {},
     "output_type": "display_data"
    }
   ],
   "source": [
    "var_86 = Baseball[,c(2,3,4,5,6,7)]\n",
    "head(var_86)\n",
    "var_career = Baseball[,c(9,10,11,12,13,14)]\n",
    "var_career = var_career/Baseball$Longevity\n",
    "var_career[] <- lapply(var_career, as.integer)\n",
    "head(var_career)"
   ]
  },
  {
   "cell_type": "code",
   "execution_count": 95,
   "metadata": {
    "vscode": {
     "languageId": "r"
    }
   },
   "outputs": [
    {
     "data": {
      "text/html": [
       "<table class=\"dataframe\">\n",
       "<caption>A matrix: 6 × 6 of type dbl</caption>\n",
       "<thead>\n",
       "\t<tr><th></th><th scope=col>Bat_times_86</th><th scope=col>Hits_86</th><th scope=col>Home_runs_1986</th><th scope=col>Runs_1986</th><th scope=col>Runs_batted_1986</th><th scope=col>Walks_1986</th></tr>\n",
       "</thead>\n",
       "<tbody>\n",
       "\t<tr><th scope=row>Bat_times_86</th><td>1.0000000</td><td>0.9621306</td><td>0.5463554</td><td>0.8941126</td><td>0.7851417</td><td>0.6077128</td></tr>\n",
       "\t<tr><th scope=row>Hits_86</th><td>0.9621306</td><td>1.0000000</td><td>0.5224638</td><td>0.9057084</td><td>0.7782902</td><td>0.5711552</td></tr>\n",
       "\t<tr><th scope=row>Home_runs_1986</th><td>0.5463554</td><td>0.5224638</td><td>1.0000000</td><td>0.6275694</td><td>0.8515637</td><td>0.4406703</td></tr>\n",
       "\t<tr><th scope=row>Runs_1986</th><td>0.8941126</td><td>0.9057084</td><td>0.6275694</td><td>1.0000000</td><td>0.7705897</td><td>0.6877491</td></tr>\n",
       "\t<tr><th scope=row>Runs_batted_1986</th><td>0.7851417</td><td>0.7782902</td><td>0.8515637</td><td>0.7705897</td><td>1.0000000</td><td>0.5618071</td></tr>\n",
       "\t<tr><th scope=row>Walks_1986</th><td>0.6077128</td><td>0.5711552</td><td>0.4406703</td><td>0.6877491</td><td>0.5618071</td><td>1.0000000</td></tr>\n",
       "</tbody>\n",
       "</table>\n"
      ],
      "text/latex": [
       "A matrix: 6 × 6 of type dbl\n",
       "\\begin{tabular}{r|llllll}\n",
       "  & Bat\\_times\\_86 & Hits\\_86 & Home\\_runs\\_1986 & Runs\\_1986 & Runs\\_batted\\_1986 & Walks\\_1986\\\\\n",
       "\\hline\n",
       "\tBat\\_times\\_86 & 1.0000000 & 0.9621306 & 0.5463554 & 0.8941126 & 0.7851417 & 0.6077128\\\\\n",
       "\tHits\\_86 & 0.9621306 & 1.0000000 & 0.5224638 & 0.9057084 & 0.7782902 & 0.5711552\\\\\n",
       "\tHome\\_runs\\_1986 & 0.5463554 & 0.5224638 & 1.0000000 & 0.6275694 & 0.8515637 & 0.4406703\\\\\n",
       "\tRuns\\_1986 & 0.8941126 & 0.9057084 & 0.6275694 & 1.0000000 & 0.7705897 & 0.6877491\\\\\n",
       "\tRuns\\_batted\\_1986 & 0.7851417 & 0.7782902 & 0.8515637 & 0.7705897 & 1.0000000 & 0.5618071\\\\\n",
       "\tWalks\\_1986 & 0.6077128 & 0.5711552 & 0.4406703 & 0.6877491 & 0.5618071 & 1.0000000\\\\\n",
       "\\end{tabular}\n"
      ],
      "text/markdown": [
       "\n",
       "A matrix: 6 × 6 of type dbl\n",
       "\n",
       "| <!--/--> | Bat_times_86 | Hits_86 | Home_runs_1986 | Runs_1986 | Runs_batted_1986 | Walks_1986 |\n",
       "|---|---|---|---|---|---|---|\n",
       "| Bat_times_86 | 1.0000000 | 0.9621306 | 0.5463554 | 0.8941126 | 0.7851417 | 0.6077128 |\n",
       "| Hits_86 | 0.9621306 | 1.0000000 | 0.5224638 | 0.9057084 | 0.7782902 | 0.5711552 |\n",
       "| Home_runs_1986 | 0.5463554 | 0.5224638 | 1.0000000 | 0.6275694 | 0.8515637 | 0.4406703 |\n",
       "| Runs_1986 | 0.8941126 | 0.9057084 | 0.6275694 | 1.0000000 | 0.7705897 | 0.6877491 |\n",
       "| Runs_batted_1986 | 0.7851417 | 0.7782902 | 0.8515637 | 0.7705897 | 1.0000000 | 0.5618071 |\n",
       "| Walks_1986 | 0.6077128 | 0.5711552 | 0.4406703 | 0.6877491 | 0.5618071 | 1.0000000 |\n",
       "\n"
      ],
      "text/plain": [
       "                 Bat_times_86 Hits_86   Home_runs_1986 Runs_1986\n",
       "Bat_times_86     1.0000000    0.9621306 0.5463554      0.8941126\n",
       "Hits_86          0.9621306    1.0000000 0.5224638      0.9057084\n",
       "Home_runs_1986   0.5463554    0.5224638 1.0000000      0.6275694\n",
       "Runs_1986        0.8941126    0.9057084 0.6275694      1.0000000\n",
       "Runs_batted_1986 0.7851417    0.7782902 0.8515637      0.7705897\n",
       "Walks_1986       0.6077128    0.5711552 0.4406703      0.6877491\n",
       "                 Runs_batted_1986 Walks_1986\n",
       "Bat_times_86     0.7851417        0.6077128 \n",
       "Hits_86          0.7782902        0.5711552 \n",
       "Home_runs_1986   0.8515637        0.4406703 \n",
       "Runs_1986        0.7705897        0.6877491 \n",
       "Runs_batted_1986 1.0000000        0.5618071 \n",
       "Walks_1986       0.5618071        1.0000000 "
      ]
     },
     "metadata": {},
     "output_type": "display_data"
    },
    {
     "data": {
      "text/html": [
       "<table class=\"dataframe\">\n",
       "<caption>A matrix: 6 × 6 of type dbl</caption>\n",
       "<thead>\n",
       "\t<tr><th></th><th scope=col>Bat_times_career</th><th scope=col>Hits_career</th><th scope=col>Home_runs_career</th><th scope=col>Runs_career</th><th scope=col>Runs_batted_career</th><th scope=col>Walks_career</th></tr>\n",
       "</thead>\n",
       "<tbody>\n",
       "\t<tr><th scope=row>Bat_times_career</th><td>1.0000000</td><td>0.9817572</td><td>0.5525338</td><td>0.9403531</td><td>0.8330020</td><td>0.6981114</td></tr>\n",
       "\t<tr><th scope=row>Hits_career</th><td>0.9817572</td><td>1.0000000</td><td>0.5291286</td><td>0.9412507</td><td>0.8341644</td><td>0.6743479</td></tr>\n",
       "\t<tr><th scope=row>Home_runs_career</th><td>0.5525338</td><td>0.5291286</td><td>1.0000000</td><td>0.6084114</td><td>0.8626287</td><td>0.5557659</td></tr>\n",
       "\t<tr><th scope=row>Runs_career</th><td>0.9403531</td><td>0.9412507</td><td>0.6084114</td><td>1.0000000</td><td>0.8127461</td><td>0.7774633</td></tr>\n",
       "\t<tr><th scope=row>Runs_batted_career</th><td>0.8330020</td><td>0.8341644</td><td>0.8626287</td><td>0.8127461</td><td>1.0000000</td><td>0.6783033</td></tr>\n",
       "\t<tr><th scope=row>Walks_career</th><td>0.6981114</td><td>0.6743479</td><td>0.5557659</td><td>0.7774633</td><td>0.6783033</td><td>1.0000000</td></tr>\n",
       "</tbody>\n",
       "</table>\n"
      ],
      "text/latex": [
       "A matrix: 6 × 6 of type dbl\n",
       "\\begin{tabular}{r|llllll}\n",
       "  & Bat\\_times\\_career & Hits\\_career & Home\\_runs\\_career & Runs\\_career & Runs\\_batted\\_career & Walks\\_career\\\\\n",
       "\\hline\n",
       "\tBat\\_times\\_career & 1.0000000 & 0.9817572 & 0.5525338 & 0.9403531 & 0.8330020 & 0.6981114\\\\\n",
       "\tHits\\_career & 0.9817572 & 1.0000000 & 0.5291286 & 0.9412507 & 0.8341644 & 0.6743479\\\\\n",
       "\tHome\\_runs\\_career & 0.5525338 & 0.5291286 & 1.0000000 & 0.6084114 & 0.8626287 & 0.5557659\\\\\n",
       "\tRuns\\_career & 0.9403531 & 0.9412507 & 0.6084114 & 1.0000000 & 0.8127461 & 0.7774633\\\\\n",
       "\tRuns\\_batted\\_career & 0.8330020 & 0.8341644 & 0.8626287 & 0.8127461 & 1.0000000 & 0.6783033\\\\\n",
       "\tWalks\\_career & 0.6981114 & 0.6743479 & 0.5557659 & 0.7774633 & 0.6783033 & 1.0000000\\\\\n",
       "\\end{tabular}\n"
      ],
      "text/markdown": [
       "\n",
       "A matrix: 6 × 6 of type dbl\n",
       "\n",
       "| <!--/--> | Bat_times_career | Hits_career | Home_runs_career | Runs_career | Runs_batted_career | Walks_career |\n",
       "|---|---|---|---|---|---|---|\n",
       "| Bat_times_career | 1.0000000 | 0.9817572 | 0.5525338 | 0.9403531 | 0.8330020 | 0.6981114 |\n",
       "| Hits_career | 0.9817572 | 1.0000000 | 0.5291286 | 0.9412507 | 0.8341644 | 0.6743479 |\n",
       "| Home_runs_career | 0.5525338 | 0.5291286 | 1.0000000 | 0.6084114 | 0.8626287 | 0.5557659 |\n",
       "| Runs_career | 0.9403531 | 0.9412507 | 0.6084114 | 1.0000000 | 0.8127461 | 0.7774633 |\n",
       "| Runs_batted_career | 0.8330020 | 0.8341644 | 0.8626287 | 0.8127461 | 1.0000000 | 0.6783033 |\n",
       "| Walks_career | 0.6981114 | 0.6743479 | 0.5557659 | 0.7774633 | 0.6783033 | 1.0000000 |\n",
       "\n"
      ],
      "text/plain": [
       "                   Bat_times_career Hits_career Home_runs_career Runs_career\n",
       "Bat_times_career   1.0000000        0.9817572   0.5525338        0.9403531  \n",
       "Hits_career        0.9817572        1.0000000   0.5291286        0.9412507  \n",
       "Home_runs_career   0.5525338        0.5291286   1.0000000        0.6084114  \n",
       "Runs_career        0.9403531        0.9412507   0.6084114        1.0000000  \n",
       "Runs_batted_career 0.8330020        0.8341644   0.8626287        0.8127461  \n",
       "Walks_career       0.6981114        0.6743479   0.5557659        0.7774633  \n",
       "                   Runs_batted_career Walks_career\n",
       "Bat_times_career   0.8330020          0.6981114   \n",
       "Hits_career        0.8341644          0.6743479   \n",
       "Home_runs_career   0.8626287          0.5557659   \n",
       "Runs_career        0.8127461          0.7774633   \n",
       "Runs_batted_career 1.0000000          0.6783033   \n",
       "Walks_career       0.6783033          1.0000000   "
      ]
     },
     "metadata": {},
     "output_type": "display_data"
    }
   ],
   "source": [
    "cor(var_86)\n",
    "cor(var_career)"
   ]
  },
  {
   "cell_type": "code",
   "execution_count": 97,
   "metadata": {
    "vscode": {
     "languageId": "r"
    }
   },
   "outputs": [
    {
     "data": {
      "text/html": [
       "<table class=\"dataframe\">\n",
       "<caption>A matrix: 2 × 2 of type dbl</caption>\n",
       "<thead>\n",
       "\t<tr><th></th><th scope=col>Bat_times_86</th><th scope=col>Bat_times_career</th></tr>\n",
       "</thead>\n",
       "<tbody>\n",
       "\t<tr><th scope=row>Bat_times_86</th><td>1.0000000</td><td>0.1898581</td></tr>\n",
       "\t<tr><th scope=row>Bat_times_career</th><td>0.1898581</td><td>1.0000000</td></tr>\n",
       "</tbody>\n",
       "</table>\n"
      ],
      "text/latex": [
       "A matrix: 2 × 2 of type dbl\n",
       "\\begin{tabular}{r|ll}\n",
       "  & Bat\\_times\\_86 & Bat\\_times\\_career\\\\\n",
       "\\hline\n",
       "\tBat\\_times\\_86 & 1.0000000 & 0.1898581\\\\\n",
       "\tBat\\_times\\_career & 0.1898581 & 1.0000000\\\\\n",
       "\\end{tabular}\n"
      ],
      "text/markdown": [
       "\n",
       "A matrix: 2 × 2 of type dbl\n",
       "\n",
       "| <!--/--> | Bat_times_86 | Bat_times_career |\n",
       "|---|---|---|\n",
       "| Bat_times_86 | 1.0000000 | 0.1898581 |\n",
       "| Bat_times_career | 0.1898581 | 1.0000000 |\n",
       "\n"
      ],
      "text/plain": [
       "                 Bat_times_86 Bat_times_career\n",
       "Bat_times_86     1.0000000    0.1898581       \n",
       "Bat_times_career 0.1898581    1.0000000       "
      ]
     },
     "metadata": {},
     "output_type": "display_data"
    },
    {
     "data": {
      "text/html": [
       "<table class=\"dataframe\">\n",
       "<caption>A matrix: 2 × 2 of type dbl</caption>\n",
       "<thead>\n",
       "\t<tr><th></th><th scope=col>Hits_86</th><th scope=col>Hits_career</th></tr>\n",
       "</thead>\n",
       "<tbody>\n",
       "\t<tr><th scope=row>Hits_86</th><td>1.0000000</td><td>0.2221684</td></tr>\n",
       "\t<tr><th scope=row>Hits_career</th><td>0.2221684</td><td>1.0000000</td></tr>\n",
       "</tbody>\n",
       "</table>\n"
      ],
      "text/latex": [
       "A matrix: 2 × 2 of type dbl\n",
       "\\begin{tabular}{r|ll}\n",
       "  & Hits\\_86 & Hits\\_career\\\\\n",
       "\\hline\n",
       "\tHits\\_86 & 1.0000000 & 0.2221684\\\\\n",
       "\tHits\\_career & 0.2221684 & 1.0000000\\\\\n",
       "\\end{tabular}\n"
      ],
      "text/markdown": [
       "\n",
       "A matrix: 2 × 2 of type dbl\n",
       "\n",
       "| <!--/--> | Hits_86 | Hits_career |\n",
       "|---|---|---|\n",
       "| Hits_86 | 1.0000000 | 0.2221684 |\n",
       "| Hits_career | 0.2221684 | 1.0000000 |\n",
       "\n"
      ],
      "text/plain": [
       "            Hits_86   Hits_career\n",
       "Hits_86     1.0000000 0.2221684  \n",
       "Hits_career 0.2221684 1.0000000  "
      ]
     },
     "metadata": {},
     "output_type": "display_data"
    },
    {
     "data": {
      "text/html": [
       "<table class=\"dataframe\">\n",
       "<caption>A matrix: 2 × 2 of type dbl</caption>\n",
       "<thead>\n",
       "\t<tr><th></th><th scope=col>Home_runs_1986</th><th scope=col>Home_runs_career</th></tr>\n",
       "</thead>\n",
       "<tbody>\n",
       "\t<tr><th scope=row>Home_runs_1986</th><td>1.0000000</td><td>0.5108369</td></tr>\n",
       "\t<tr><th scope=row>Home_runs_career</th><td>0.5108369</td><td>1.0000000</td></tr>\n",
       "</tbody>\n",
       "</table>\n"
      ],
      "text/latex": [
       "A matrix: 2 × 2 of type dbl\n",
       "\\begin{tabular}{r|ll}\n",
       "  & Home\\_runs\\_1986 & Home\\_runs\\_career\\\\\n",
       "\\hline\n",
       "\tHome\\_runs\\_1986 & 1.0000000 & 0.5108369\\\\\n",
       "\tHome\\_runs\\_career & 0.5108369 & 1.0000000\\\\\n",
       "\\end{tabular}\n"
      ],
      "text/markdown": [
       "\n",
       "A matrix: 2 × 2 of type dbl\n",
       "\n",
       "| <!--/--> | Home_runs_1986 | Home_runs_career |\n",
       "|---|---|---|\n",
       "| Home_runs_1986 | 1.0000000 | 0.5108369 |\n",
       "| Home_runs_career | 0.5108369 | 1.0000000 |\n",
       "\n"
      ],
      "text/plain": [
       "                 Home_runs_1986 Home_runs_career\n",
       "Home_runs_1986   1.0000000      0.5108369       \n",
       "Home_runs_career 0.5108369      1.0000000       "
      ]
     },
     "metadata": {},
     "output_type": "display_data"
    },
    {
     "data": {
      "text/html": [
       "<table class=\"dataframe\">\n",
       "<caption>A matrix: 2 × 2 of type dbl</caption>\n",
       "<thead>\n",
       "\t<tr><th></th><th scope=col>Runs_1986</th><th scope=col>Runs_career</th></tr>\n",
       "</thead>\n",
       "<tbody>\n",
       "\t<tr><th scope=row>Runs_1986</th><td>1.0000000</td><td>0.2323638</td></tr>\n",
       "\t<tr><th scope=row>Runs_career</th><td>0.2323638</td><td>1.0000000</td></tr>\n",
       "</tbody>\n",
       "</table>\n"
      ],
      "text/latex": [
       "A matrix: 2 × 2 of type dbl\n",
       "\\begin{tabular}{r|ll}\n",
       "  & Runs\\_1986 & Runs\\_career\\\\\n",
       "\\hline\n",
       "\tRuns\\_1986 & 1.0000000 & 0.2323638\\\\\n",
       "\tRuns\\_career & 0.2323638 & 1.0000000\\\\\n",
       "\\end{tabular}\n"
      ],
      "text/markdown": [
       "\n",
       "A matrix: 2 × 2 of type dbl\n",
       "\n",
       "| <!--/--> | Runs_1986 | Runs_career |\n",
       "|---|---|---|\n",
       "| Runs_1986 | 1.0000000 | 0.2323638 |\n",
       "| Runs_career | 0.2323638 | 1.0000000 |\n",
       "\n"
      ],
      "text/plain": [
       "            Runs_1986 Runs_career\n",
       "Runs_1986   1.0000000 0.2323638  \n",
       "Runs_career 0.2323638 1.0000000  "
      ]
     },
     "metadata": {},
     "output_type": "display_data"
    },
    {
     "data": {
      "text/html": [
       "<table class=\"dataframe\">\n",
       "<caption>A matrix: 2 × 2 of type dbl</caption>\n",
       "<thead>\n",
       "\t<tr><th></th><th scope=col>Runs_batted_1986</th><th scope=col>Runs_batted_career</th></tr>\n",
       "</thead>\n",
       "<tbody>\n",
       "\t<tr><th scope=row>Runs_batted_1986</th><td>1.0000000</td><td>0.3960386</td></tr>\n",
       "\t<tr><th scope=row>Runs_batted_career</th><td>0.3960386</td><td>1.0000000</td></tr>\n",
       "</tbody>\n",
       "</table>\n"
      ],
      "text/latex": [
       "A matrix: 2 × 2 of type dbl\n",
       "\\begin{tabular}{r|ll}\n",
       "  & Runs\\_batted\\_1986 & Runs\\_batted\\_career\\\\\n",
       "\\hline\n",
       "\tRuns\\_batted\\_1986 & 1.0000000 & 0.3960386\\\\\n",
       "\tRuns\\_batted\\_career & 0.3960386 & 1.0000000\\\\\n",
       "\\end{tabular}\n"
      ],
      "text/markdown": [
       "\n",
       "A matrix: 2 × 2 of type dbl\n",
       "\n",
       "| <!--/--> | Runs_batted_1986 | Runs_batted_career |\n",
       "|---|---|---|\n",
       "| Runs_batted_1986 | 1.0000000 | 0.3960386 |\n",
       "| Runs_batted_career | 0.3960386 | 1.0000000 |\n",
       "\n"
      ],
      "text/plain": [
       "                   Runs_batted_1986 Runs_batted_career\n",
       "Runs_batted_1986   1.0000000        0.3960386         \n",
       "Runs_batted_career 0.3960386        1.0000000         "
      ]
     },
     "metadata": {},
     "output_type": "display_data"
    },
    {
     "data": {
      "text/html": [
       "<table class=\"dataframe\">\n",
       "<caption>A matrix: 2 × 2 of type dbl</caption>\n",
       "<thead>\n",
       "\t<tr><th></th><th scope=col>Walks_1986</th><th scope=col>Walks_career</th></tr>\n",
       "</thead>\n",
       "<tbody>\n",
       "\t<tr><th scope=row>Walks_1986</th><td>1.0000000</td><td>0.4359526</td></tr>\n",
       "\t<tr><th scope=row>Walks_career</th><td>0.4359526</td><td>1.0000000</td></tr>\n",
       "</tbody>\n",
       "</table>\n"
      ],
      "text/latex": [
       "A matrix: 2 × 2 of type dbl\n",
       "\\begin{tabular}{r|ll}\n",
       "  & Walks\\_1986 & Walks\\_career\\\\\n",
       "\\hline\n",
       "\tWalks\\_1986 & 1.0000000 & 0.4359526\\\\\n",
       "\tWalks\\_career & 0.4359526 & 1.0000000\\\\\n",
       "\\end{tabular}\n"
      ],
      "text/markdown": [
       "\n",
       "A matrix: 2 × 2 of type dbl\n",
       "\n",
       "| <!--/--> | Walks_1986 | Walks_career |\n",
       "|---|---|---|\n",
       "| Walks_1986 | 1.0000000 | 0.4359526 |\n",
       "| Walks_career | 0.4359526 | 1.0000000 |\n",
       "\n"
      ],
      "text/plain": [
       "             Walks_1986 Walks_career\n",
       "Walks_1986   1.0000000  0.4359526   \n",
       "Walks_career 0.4359526  1.0000000   "
      ]
     },
     "metadata": {},
     "output_type": "display_data"
    }
   ],
   "source": [
    "bat_times = Baseball[,c(2,9)]\n",
    "hits = Baseball[,c(3,10)]\n",
    "home_runs = Baseball[,c(4,11)]\n",
    "runs = Baseball[,c(5,12)]\n",
    "runs_batted = Baseball[,c(6,13)]\n",
    "walks = Baseball[,c(7,14)]\n",
    "\n",
    "cor(bat_times)\n",
    "cor(hits)\n",
    "cor(home_runs)\n",
    "cor(runs)\n",
    "cor(runs_batted)\n",
    "cor(walks)"
   ]
  },
  {
   "cell_type": "code",
   "execution_count": 137,
   "metadata": {},
   "outputs": [
    {
     "name": "stdout",
     "output_type": "stream",
     "text": [
      "                 Salary_1987   Hits_86 Home_runs_1986 Runs_batted_1986\n",
      "Salary_1987        1.0000000 0.5128498      0.3923546        0.5162758\n",
      "Hits_86            0.5128498 1.0000000      0.5224638        0.7782902\n",
      "Home_runs_1986     0.3923546 0.5224638      1.0000000        0.8515637\n",
      "Runs_batted_1986   0.5162758 0.7782902      0.8515637        1.0000000\n"
     ]
    },
    {
     "name": "stderr",
     "output_type": "stream",
     "text": [
      "\u001b[1m\u001b[22m`geom_smooth()` using formula = 'y ~ x'\n",
      "\u001b[1m\u001b[22m`geom_smooth()` using formula = 'y ~ x'\n"
     ]
    },
    {
     "data": {
      "image/png": "[encoded data removed]",
      "text/plain": [
       "plot without title"
      ]
     },
     "metadata": {
      "image/png": {
       "height": 420,
       "width": 420
      }
     },
     "output_type": "display_data"
    },
    {
     "name": "stderr",
     "output_type": "stream",
     "text": [
      "\u001b[1m\u001b[22m`geom_smooth()` using formula = 'y ~ x'\n"
     ]
    },
    {
     "data": {
      "image/png": "[encoded data removed]",
      "text/plain": [
       "plot without title"
      ]
     },
     "metadata": {
      "image/png": {
       "height": 420,
       "width": 420
      }
     },
     "output_type": "display_data"
    },
    {
     "data": {
      "image/png": "[encoded data removed]",
      "text/plain": [
       "plot without title"
      ]
     },
     "metadata": {
      "image/png": {
       "height": 420,
       "width": 420
      }
     },
     "output_type": "display_data"
    }
   ],
   "source": [
    "subset_data <- Baseball[c(\"Salary_1987\",\"Hits_86\", \"Home_runs_1986\", \"Runs_batted_1986\")]\n",
    "cor_subset <- cor(subset_data, use = \"complete.obs\")\n",
    "print(cor_subset)\n",
    "\n",
    "# Nuage de points pour Hits_86 vs Salary_1987\n",
    "ggplot(subset_data, aes(x = Hits_86, y = Salary_1987)) +\n",
    "  geom_point(color = \"black\") +\n",
    "  geom_smooth(method = \"lm\", col = \"red\") +\n",
    "  labs(title = \"Hits_86 vs Salary_1987\", x = \"Hits en 1986\", y = \"Salaire en 1987\")\n",
    "\n",
    "# Nuage de points pour Home_runs_1986 vs Salary_1987\n",
    "ggplot(subset_data, aes(x = Home_runs_1986, y = Salary_1987)) +\n",
    "  geom_point(color = \"black\") +\n",
    "  geom_smooth(method = \"lm\", col = \"red\") +\n",
    "  labs(title = \"Home_runs_1986 vs Salary_1987\", x = \"Home Runs en 1986\", y = \"Salaire en 1987\")\n",
    "\n",
    "# Nuage de points pour Runs_batted_1986 vs Salary_1987\n",
    "ggplot(subset_data, aes(x = Runs_batted_1986, y = Salary_1987)) +\n",
    "  geom_point(color = \"black\") +\n",
    "  geom_smooth(method = \"lm\", col = \"red\") +\n",
    "  labs(title = \"Runs_batted_1986 vs Salary_1987\", x = \"Runs batted en 1986\", y = \"Salaire en 1987\")\n"
   ]
  },
  {
   "cell_type": "markdown",
   "metadata": {},
   "source": [
    "Graphique (Home_runs_1986 vs Salary_1987) :\n",
    "\n",
    "La relation entre les \"Home Runs\" réalisés en 1986 et le salaire en 1987 semble être positive mais faible. La ligne de régression montre une légère tendance croissante.\n",
    "Cependant, il y a beaucoup de dispersion autour de la ligne, ce qui signifie que le nombre de home runs n'explique pas complètement le salaire.\n",
    "Tableau de corrélation :\n",
    "\n",
    "La corrélation entre Home_runs_1986 et Salary_1987 est de 0.39 (positive mais relativement faible).\n",
    "En revanche, Hits_86 et Runs_batted_1986 montrent des corrélations plus fortes avec Salary_1987 (0.51 et 0.52 respectivement), suggérant qu'ils pourraient être des facteurs plus significatifs.\n",
    "\n",
    "Pourquoi autant de points éloignés de la ligne de régression ?\n",
    "Cela peut s'expliquer par :\n",
    "\n",
    "Autres facteurs : Le salaire dépend probablement d'autres variables importantes (popularité, ancienneté, position, etc.).\n",
    "Variabilité naturelle : Certains joueurs peuvent avoir des salaires élevés pour des raisons indépendantes de leurs statistiques sportives.\n",
    "Relation faible : La corrélation de 0.39 montre qu'il y a une certaine relation, mais pas assez forte pour expliquer la majorité des salaires."
   ]
  },
  {
   "cell_type": "code",
   "execution_count": 140,
   "metadata": {},
   "outputs": [
    {
     "data": {
      "text/plain": [
       "\n",
       "Call:\n",
       "lm(formula = Salary_1987 ~ Hits_86 + Home_runs_1986 + Runs_batted_1986, \n",
       "    data = subset_data)\n",
       "\n",
       "Residuals:\n",
       "    Min      1Q  Median      3Q     Max \n",
       "-916.31 -222.30  -30.71  161.58 1625.15 \n",
       "\n",
       "Coefficients:\n",
       "                 Estimate Std. Error t value Pr(>|t|)   \n",
       "(Intercept)      -45.2175    62.8683  -0.719  0.47264   \n",
       "Hits_86            2.7548     0.9374   2.939  0.00359 **\n",
       "Home_runs_1986    -1.7622     5.5964  -0.315  0.75310   \n",
       "Runs_batted_1986   5.8816     2.6086   2.255  0.02499 * \n",
       "---\n",
       "Signif. codes:  0 '***' 0.001 '**' 0.01 '*' 0.05 '.' 0.1 ' ' 1\n",
       "\n",
       "Residual standard error: 379.2 on 259 degrees of freedom\n",
       "Multiple R-squared:  0.2981,\tAdjusted R-squared:   0.29 \n",
       "F-statistic: 36.66 on 3 and 259 DF,  p-value: < 2.2e-16\n"
      ]
     },
     "metadata": {},
     "output_type": "display_data"
    }
   ],
   "source": [
    "model <- lm(Salary_1987 ~ Hits_86 + Home_runs_1986 + Runs_batted_1986, data = subset_data)\n",
    "summary(model)"
   ]
  },
  {
   "cell_type": "code",
   "execution_count": 142,
   "metadata": {},
   "outputs": [
    {
     "data": {
      "text/plain": [
       "\n",
       "\tShapiro-Wilk normality test\n",
       "\n",
       "data:  model$residuals\n",
       "W = 0.94723, p-value = 3.882e-08\n"
      ]
     },
     "metadata": {},
     "output_type": "display_data"
    },
    {
     "data": {
      "image/png": "[encoded data removed]",
      "text/plain": [
       "Plot with title \"Normal Q-Q Plot\""
      ]
     },
     "metadata": {
      "image/png": {
       "height": 420,
       "width": 420
      }
     },
     "output_type": "display_data"
    }
   ],
   "source": [
    "qqnorm(model$residuals)\n",
    "qqline(model$residuals, col = \"red\")\n",
    "shapiro.test(model$residuals)"
   ]
  },
  {
   "cell_type": "markdown",
   "metadata": {},
   "source": [
    "### <font color = \"orange\"> 2.4.2. Est-ce que la longévité de la carrière et le salaire perçu  est lié ? </font>"
   ]
  },
  {
   "cell_type": "code",
   "execution_count": 102,
   "metadata": {
    "vscode": {
     "languageId": "r"
    }
   },
   "outputs": [
    {
     "data": {
      "image/png": "[encoded data removed]",
      "text/plain": [
       "plot without title"
      ]
     },
     "metadata": {
      "image/png": {
       "height": 420,
       "width": 420
      }
     },
     "output_type": "display_data"
    },
    {
     "data": {
      "image/png": "[encoded data removed]",
      "text/plain": [
       "plot without title"
      ]
     },
     "metadata": {
      "image/png": {
       "height": 420,
       "width": 420
      }
     },
     "output_type": "display_data"
    },
    {
     "data": {
      "image/png": "[encoded data removed]",
      "text/plain": [
       "Plot with title \"Salaire en fonction de la longévité\""
      ]
     },
     "metadata": {
      "image/png": {
       "height": 420,
       "width": 420
      }
     },
     "output_type": "display_data"
    },
    {
     "data": {
      "text/html": [
       "<strong>null device:</strong> 1"
      ],
      "text/latex": [
       "\\textbf{null device:} 1"
      ],
      "text/markdown": [
       "**null device:** 1"
      ],
      "text/plain": [
       "null device \n",
       "          1 "
      ]
     },
     "metadata": {},
     "output_type": "display_data"
    },
    {
     "data": {
      "image/png": "[encoded data removed]",
      "text/plain": [
       "plot without title"
      ]
     },
     "metadata": {
      "image/png": {
       "height": 420,
       "width": 420
      }
     },
     "output_type": "display_data"
    }
   ],
   "source": [
    "histogram(~ Baseball$Longevity, xlab=\"Longévité\", ylab=\"Effectif\", main=\"Distribution de la longévité de la carrière chez les joueurs\")\n",
    "histogram(~ Baseball$Salary_1987, xlab=\"Salaire\", ylab=\"Effectif\", main=\"Distribution du salaire chez les joueurs\")\n",
    "par(bg = \"white\") \n",
    "plot(Baseball$Longevity, Baseball$Salary_1987, xlab=\"Longévité\", ylab=\"Salaire\", main=\"Salaire en fonction de la longévité\")\n",
    "\n",
    "\n",
    "#png(\"salaire_longetivite.png\", bg = \"white\")\n",
    "plot(Baseball$Longevity, Baseball$Salary_1987)\n",
    "dev.off()"
   ]
  },
  {
   "cell_type": "code",
   "execution_count": 90,
   "metadata": {
    "vscode": {
     "languageId": "r"
    }
   },
   "outputs": [
    {
     "data": {
      "text/plain": [
       "\n",
       " 1  2  3  4  5  6  7  8  9 10 11 12 13 14 15 16 17 18 19 20 24 \n",
       "16 20 24 28 26 29 19 11 12 12  8 10 10 12  8  4  5  5  1  2  1 "
      ]
     },
     "metadata": {},
     "output_type": "display_data"
    },
    {
     "name": "stdout",
     "output_type": "stream",
     "text": [
      "  [1] 14    3     11    2     11    2     3     2     13    10    9     4    \n",
      " [13] 6     13    15    5     8     1     1     6     18-19 6     7     10   \n",
      " [25] 5     14    3     5     7     14    2     2     4     6     3     5    \n",
      " [37] 6     16-17 2     9     12    6     4     12    6     1     16-17 4    \n",
      " [49] 4     16-17 3     4     16-17 14    18-19 15    9     4     6     4    \n",
      " [61] 15    5     11    9     14    2     16-17 4     5     4     1     3    \n",
      " [73] 12    14    3     7     10    8     14    5     1     14    5     13   \n",
      " [85] 3     6     4     16-17 9     8     15    20+   5     5     11    5    \n",
      " [97] 8     5     7     7     5     18-19 4     9     3     6     15    2    \n",
      "[109] 2     4     12    16-17 6     14    5     11    15    2     1     10   \n",
      "[121] 10    5     13    3     6     3     13    14    3     4     6     4    \n",
      "[133] 13    3     11    5     1     8     14    13    6     10    4     2    \n",
      "[145] 9     10    7     3     1     7     2     12    15    6     7     10   \n",
      "[157] 13    3     10    1     5     7     2     2     13    6     9     1    \n",
      "[169] 3     6     3     3     15    7     3     3     4     7     4     5    \n",
      "[181] 2     2     9     7     4     14    1     9     20+   5     6     5    \n",
      "[193] 12    5     12    16-17 3     18-19 9     8     20+   5     11    6    \n",
      "[205] 12    10    9     1     7     4     6     6     4     3     1     12   \n",
      "[217] 1     10    13    6     3     4     2     2     6     18-19 4     2    \n",
      "[229] 4     6     8     8     6     4     8     4     5     7     8     4    \n",
      "[241] 6     7     6     16-17 7     3     5     10    18-19 4     7     2    \n",
      "[253] 6     7     7     5     1     1     5     12    6     8     11   \n",
      "Levels: 1 10 11 12 13 14 15 16-17 18-19 2 20+ 3 4 5 6 7 8 9\n"
     ]
    }
   ],
   "source": [
    "table(Baseball$Longevity)\n",
    "\n",
    "longevity_modif <- ifelse(Baseball$Longevity %in% c(16, 17), \"16-17\", as.character(Baseball$Longevity))\n",
    "longevity_modif <- ifelse(longevity_modif %in% c(18, 19), \"18-19\", as.character(longevity_modif))\n",
    "longevity_modif <- ifelse(longevity_modif %in% c(20, 24), \"20+\", as.character(longevity_modif))\n",
    "longevity_modif <- as.factor(longevity_modif)\n",
    "print(longevity_modif)"
   ]
  },
  {
   "cell_type": "code",
   "execution_count": 92,
   "metadata": {
    "vscode": {
     "languageId": "r"
    }
   },
   "outputs": [
    {
     "name": "stdout",
     "output_type": "stream",
     "text": [
      "\n",
      "\tOne-way analysis of means (not assuming equal variances)\n",
      "\n",
      "data:  Baseball$Salary_1987 and longevity_modif\n",
      "F = 19.613, num df = 17.000, denom df = 55.493, p-value < 2.2e-16\n",
      "\n"
     ]
    }
   ],
   "source": [
    "anova1 <- oneway.test(Baseball$Salary_1987 ~ longevity_modif, var.equal = FALSE)\n",
    "print(anova1)"
   ]
  },
  {
   "cell_type": "markdown",
   "metadata": {},
   "source": [
    "# <font color = \"blue\"> Bonus </font>"
   ]
  },
  {
   "cell_type": "code",
   "execution_count": 72,
   "metadata": {},
   "outputs": [
    {
     "data": {
      "text/plain": [
       "\n",
       "  E   W \n",
       "129 134 "
      ]
     },
     "metadata": {},
     "output_type": "display_data"
    },
    {
     "data": {
      "text/plain": [
       "\n",
       " Atl.  Bal.  Bos.  Cal.  Chi.  Cin.  Cle.  Det.  Hou.  K.C.  L.A.  Mil.  Min. \n",
       "    8    10     8    10    22    10    11    11    10     9    10    10    11 \n",
       " Mon.  N.Y.  Oak.  Phi.  Pit.  S.D.  S.F.  Sea. St.L.  Tex.  Tor. \n",
       "    9    20     8    10     9    12    13    11    11    11     9 "
      ]
     },
     "metadata": {},
     "output_type": "display_data"
    },
    {
     "data": {
      "text/plain": [
       "\n",
       "1B 1O 23 2B 2S 32 3B 3O 3S  C CD CF DH DO LF O1 OD OF OS RF S3 SS UT \n",
       "24  1  1 26  1  1 30  1  3 30  1 23 11  2 20  4  1 22  2 22  1 26 10 "
      ]
     },
     "metadata": {},
     "output_type": "display_data"
    },
    {
     "data": {
      "text/plain": [
       "\n",
       "  A   N \n",
       "139 124 "
      ]
     },
     "metadata": {},
     "output_type": "display_data"
    },
    {
     "data": {
      "text/plain": [
       "\n",
       " Atl.  Bal.  Bos.  Cal.  Chi.  Cin.  Cle.  Det.  Hou.  K.C.  L.A.  Mil.  Min. \n",
       "    9    11     9     8    20     9    12    12    11     9     9    10    12 \n",
       " Mon.  N.Y.  Oak.  Phi.  Pit.  S.D.  S.F.  Sea. St.L.  Tex.  Tor. \n",
       "    8    21     9    11    13     9    14    10     9    10     8 "
      ]
     },
     "metadata": {},
     "output_type": "display_data"
    },
    {
     "data": {
      "text/plain": [
       "\n",
       "  A   N \n",
       "141 122 "
      ]
     },
     "metadata": {},
     "output_type": "display_data"
    }
   ],
   "source": [
    "# Obtenir les effectifs par groupe \n",
    "\n",
    "table(Baseball$Division_1986)\n",
    "table(Baseball$Team_1986)\n",
    "table(Baseball$Position_1986)\n",
    "table(Baseball$League_1986)\n",
    "table(Baseball$Team_1987)\n",
    "table(Baseball$League_1987)"
   ]
  },
  {
   "cell_type": "code",
   "execution_count": 76,
   "metadata": {},
   "outputs": [
    {
     "data": {
      "image/png": "[encoded data removed]",
      "text/plain": [
       "plot without title"
      ]
     },
     "metadata": {
      "image/png": {
       "height": 420,
       "width": 420
      }
     },
     "output_type": "display_data"
    }
   ],
   "source": [
    "# Analyser graphiquement les salaires en fonctions des équipes : Histogramme\n",
    "\n",
    "ggplot(Baseball, aes(x = Team_1986, y = Salary_1987)) +\n",
    "  geom_bar(stat = \"identity\",fill = \"pink\") +\n",
    "  theme(axis.text.x = element_text(angle = 90, hjust = 1)) +\n",
    "  labs(title = \"Salaire par équipe\", x = \"Équipe\", y = \"Salaire\") \n"
   ]
  },
  {
   "cell_type": "code",
   "execution_count": 78,
   "metadata": {},
   "outputs": [
    {
     "name": "stderr",
     "output_type": "stream",
     "text": [
      "\u001b[1m\u001b[22m`geom_smooth()` using formula = 'y ~ x'\n"
     ]
    },
    {
     "data": {
      "image/png": "[encoded data removed]",
      "text/plain": [
       "plot without title"
      ]
     },
     "metadata": {
      "image/png": {
       "height": 420,
       "width": 420
      }
     },
     "output_type": "display_data"
    }
   ],
   "source": [
    "# Analyser graphiquement les home run en fonction de la longevité : Courbe regréssion linéaire\n",
    "\n",
    "ggplot(Baseball, aes(x = Longevity, y = Home_runs_1986)) +\n",
    "  geom_point() + \n",
    "  geom_smooth(method = \"lm\", color = \"blue\") +  \n",
    "  labs(title = \"Évolution des Home Runs en fonction de la Longévité\",\n",
    "       x = \"Longévité (années dans les grandes ligues)\",\n",
    "       y = \"Home Runs en 1986\") +\n",
    "  theme_minimal()"
   ]
  },
  {
   "cell_type": "code",
   "execution_count": 80,
   "metadata": {},
   "outputs": [
    {
     "name": "stdout",
     "output_type": "stream",
     "text": [
      "                 Salary_1987   Hits_86 Home_runs_1986 Runs_batted_1986\n",
      "Salary_1987        1.0000000 0.5128498      0.3923546        0.5162758\n",
      "Hits_86            0.5128498 1.0000000      0.5224638        0.7782902\n",
      "Home_runs_1986     0.3923546 0.5224638      1.0000000        0.8515637\n",
      "Runs_batted_1986   0.5162758 0.7782902      0.8515637        1.0000000\n"
     ]
    },
    {
     "data": {
      "image/png": "[encoded data removed]",
      "text/plain": [
       "plot without title"
      ]
     },
     "metadata": {
      "image/png": {
       "height": 420,
       "width": 420
      }
     },
     "output_type": "display_data"
    }
   ],
   "source": [
    "# Analyser les corrélations entre performances et salaire\n",
    "\n",
    "performances <- Baseball[, c(\"Salary_1987\", \"Hits_86\", \"Home_runs_1986\", \"Runs_batted_1986\")]\n",
    "ggpairs(performances,diag = list(continuous = \"blankDiag\"))\n",
    "cor_matrix <- cor(performances, use = \"complete.obs\")\n",
    "print(cor_matrix)\n"
   ]
  }
 ],
 "metadata": {
  "kernelspec": {
   "display_name": "R",
   "language": "R",
   "name": "ir"
  },
  "language_info": {
   "codemirror_mode": "r",
   "file_extension": ".r",
   "mimetype": "text/x-r-source",
   "name": "R",
   "pygments_lexer": "r",
   "version": "4.4.1"
  }
 },
 "nbformat": 4,
 "nbformat_minor": 4
}
